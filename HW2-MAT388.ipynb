{
 "cells": [
  {
   "cell_type": "markdown",
   "id": "f53c03e0-c8c7-40bb-a814-c4de469821b7",
   "metadata": {},
   "source": [
    "# Question 1\n",
    "\n",
    "For this question use the World Bank Data for Turkey for the following indicators. Use [wbgapi](https://pypi.org/project/wbgapi/) for getting the data.\n",
    "\n",
    "* [Literacy rate, adult female (SE.ADT.LITR.FE.ZS)](https://data.worldbank.org/indicator/SE.ADT.LITR.FE.ZS)\n",
    "* [Labor force, female (SL.TLF.TOTL.FE.ZS)](https://data.worldbank.org/indicator/SL.TLF.TOTL.FE.ZS)\n",
    "* [Poverty headcount ratio at national poverty lines (SI.POV.NAHC)](https://data.worldbank.org/indicator/SI.POV.NAHC)\n",
    "* [Current health expenditure per capita (SH.XPD.CHEX.PC.CD)](https://data.worldbank.org/indicator/SH.XPD.CHEX.PC.CD)\n",
    "* [GDP per capita (NY.GDP.PCAP.CD)](https://data.worldbank.org/indicator/NY.GDP.PCAP.CD)\n",
    "* [Mortality rate, under-5 (SH.DYN.MORT)](https://data.worldbank.org/indicator/SH.DYN.MORT)\n",
    "\n",
    "\n",
    "Using the [statsmodels](https://www.statsmodels.org/stable/index.html) library write the best linear regression model using child mortality as the dependent variable while the rest are considered as independent variables. Pay particular attention to the fact that the order of the variables put into the model significantly impacts the performance of the model. Choose the best model by considering\n",
    "\n",
    "* with the minimum number of variables and their interactions,\n",
    "* with the optimal ordering of the independent variables and their interactions,\n",
    "* $R^2$-score of the model,\n",
    "* statistical significance of the model coefficients,\n",
    "* ANOVA analysis of the model.\n"
   ]
  },
  {
   "cell_type": "code",
   "execution_count": 86,
   "id": "01bfd781-552b-4005-bc26-f3d3a7008e2e",
   "metadata": {},
   "outputs": [],
   "source": [
    "import pandas as pd\n",
    "import wbgapi as wb\n",
    "import numpy as np\n",
    "import statsmodels.api as sm\n",
    "import matplotlib.pyplot as plt\n",
    "from sklearn.linear_model import LinearRegression, Ridge, Lasso, ElasticNet"
   ]
  },
  {
   "cell_type": "code",
   "execution_count": 226,
   "id": "28093d18",
   "metadata": {},
   "outputs": [],
   "source": [
    "literate = pd.DataFrame(list(wb.data.fetch('SE.ADT.LITR.FE.ZS','TUR')))\n",
    "literacy_value = literate[['value']]\n",
    "\n",
    "\n",
    "labor_force = pd.DataFrame(list(wb.data.fetch('SL.TLF.TOTL.FE.ZS','TUR')))\n",
    "labor_value = labor_force[['value']]\n",
    "\n",
    "\n",
    "poverty = pd.DataFrame(list(wb.data.fetch('SI.POV.NAHC','TUR')))\n",
    "poverty_value = poverty[['value']]\n",
    "\n",
    "\n",
    "current_health = pd.DataFrame(list(wb.data.fetch('SH.XPD.CHEX.PC.CD','TUR')))\n",
    "health_value = current_health[['value']]\n",
    "\n",
    "\n",
    "gdp = pd.DataFrame(list(wb.data.fetch('NY.GDP.PCAP.CD','TUR')))\n",
    "gdp_value = gdp[['value']]\n",
    "\n",
    "mortality = pd.DataFrame(list(wb.data.fetch('SH.DYN.MORT','TUR')))\n",
    "mortality_value = mortality[['value']]\n",
    "\n",
    "def extract(df,name):\n",
    "    tmp = df[['time','value']]\n",
    "    tmp.index = tmp.time\n",
    "    del tmp['time']\n",
    "    tmp.columns = [[name]]\n",
    "    return tmp\n"
   ]
  },
  {
   "cell_type": "code",
   "execution_count": 164,
   "id": "2fddee24",
   "metadata": {},
   "outputs": [
    {
     "name": "stdout",
     "output_type": "stream",
     "text": [
      "                            OLS Regression Results                            \n",
      "==============================================================================\n",
      "Dep. Variable:              mortality   R-squared:                       0.992\n",
      "Model:                            OLS   Adj. R-squared:                  0.986\n",
      "Method:                 Least Squares   F-statistic:                     169.6\n",
      "Date:                Thu, 03 Nov 2022   Prob (F-statistic):           3.81e-07\n",
      "Time:                        17:40:37   Log-Likelihood:                -7.8492\n",
      "No. Observations:                  13   AIC:                             27.70\n",
      "Df Residuals:                       7   BIC:                             31.09\n",
      "Df Model:                           5                                         \n",
      "Covariance Type:            nonrobust                                         \n",
      "=======================================================================================\n",
      "                          coef    std err          t      P>|t|      [0.025      0.975]\n",
      "---------------------------------------------------------------------------------------\n",
      "const                  69.8438      9.987      6.994      0.000      46.229      93.458\n",
      "('literacy',)           0.0222      0.372      0.060      0.954      -0.858       0.902\n",
      "('labor_force',)       -2.0005      0.746     -2.683      0.031      -3.764      -0.237\n",
      "('poverty',)            0.4324      0.319      1.355      0.218      -0.322       1.187\n",
      "('current_health',)    -0.0185      0.007     -2.597      0.036      -0.035      -0.002\n",
      "('gdp',)                0.0007      0.000      1.455      0.189      -0.000       0.002\n",
      "==============================================================================\n",
      "Omnibus:                        1.712   Durbin-Watson:                   2.158\n",
      "Prob(Omnibus):                  0.425   Jarque-Bera (JB):                1.117\n",
      "Skew:                          -0.455   Prob(JB):                        0.572\n",
      "Kurtosis:                       1.890   Cond. No.                     6.27e+05\n",
      "==============================================================================\n",
      "\n",
      "Notes:\n",
      "[1] Standard Errors assume that the covariance matrix of the errors is correctly specified.\n",
      "[2] The condition number is large, 6.27e+05. This might indicate that there are\n",
      "strong multicollinearity or other numerical problems.\n"
     ]
    },
    {
     "name": "stderr",
     "output_type": "stream",
     "text": [
      "/Library/Frameworks/Python.framework/Versions/3.10/lib/python3.10/site-packages/scipy/stats/_stats_py.py:1769: UserWarning: kurtosistest only valid for n>=20 ... continuing anyway, n=13\n",
      "  warnings.warn(\"kurtosistest only valid for n>=20 ... continuing \"\n"
     ]
    },
    {
     "data": {
      "text/plain": [
       "array([[ 2.21783647e-02, -2.00050900e+00,  4.32357350e-01,\n",
       "        -1.85060442e-02,  6.62827675e-04]])"
      ]
     },
     "execution_count": 164,
     "metadata": {},
     "output_type": "execute_result"
    }
   ],
   "source": [
    "\n",
    "\n",
    "def multipleLinear():\n",
    "    lit = extract(literate,'literacy')\n",
    "    lab = extract(labor_force,'labor_force')\n",
    "    mor = extract(mortality,'mortality')\n",
    "    pov = extract(poverty,'poverty')\n",
    "    cur = extract(current_health,'current_health')\n",
    "    gdp1 = extract(gdp,'gdp')\n",
    "    res = mor.join([lit,lab,pov,cur,gdp1])\n",
    "    res.dropna(inplace=True)\n",
    "    return res\n",
    "\n",
    "res = multipleLinear()\n",
    "X = res[['literacy','labor_force','poverty','current_health','gdp']]\n",
    "XX = sm.add_constant(X)\n",
    "Y = res['mortality']\n",
    "model = sm.OLS(Y,XX)\n",
    "results = model.fit()\n",
    "print(results.summary())\n",
    "\n",
    "reg = LinearRegression()\n",
    "reg.fit(X,Y)\n",
    "Intercept=reg.intercept_\n",
    "Coefficients=reg.coef_\n",
    "Intercept\n",
    "Coefficients\n"
   ]
  },
  {
   "cell_type": "code",
   "execution_count": 203,
   "id": "22de7407",
   "metadata": {},
   "outputs": [
    {
     "name": "stdout",
     "output_type": "stream",
     "text": [
      "                            OLS Regression Results                            \n",
      "==============================================================================\n",
      "Dep. Variable:              mortality   R-squared:                       0.992\n",
      "Model:                            OLS   Adj. R-squared:                  0.986\n",
      "Method:                 Least Squares   F-statistic:                     169.6\n",
      "Date:                Thu, 03 Nov 2022   Prob (F-statistic):           3.81e-07\n",
      "Time:                        19:04:03   Log-Likelihood:                -7.8492\n",
      "No. Observations:                  13   AIC:                             27.70\n",
      "Df Residuals:                       7   BIC:                             31.09\n",
      "Df Model:                           5                                         \n",
      "Covariance Type:            nonrobust                                         \n",
      "==================================================================================\n",
      "                     coef    std err          t      P>|t|      [0.025      0.975]\n",
      "----------------------------------------------------------------------------------\n",
      "Intercept         69.8438      9.987      6.994      0.000      46.229      93.458\n",
      "literacy           0.0222      0.372      0.060      0.954      -0.858       0.902\n",
      "poverty            0.4324      0.319      1.355      0.218      -0.322       1.187\n",
      "gdp                0.0007      0.000      1.455      0.189      -0.000       0.002\n",
      "current_health    -0.0185      0.007     -2.597      0.036      -0.035      -0.002\n",
      "labor_force       -2.0005      0.746     -2.683      0.031      -3.764      -0.237\n",
      "==============================================================================\n",
      "Omnibus:                        1.712   Durbin-Watson:                   2.158\n",
      "Prob(Omnibus):                  0.425   Jarque-Bera (JB):                1.117\n",
      "Skew:                          -0.455   Prob(JB):                        0.572\n",
      "Kurtosis:                       1.890   Cond. No.                     6.27e+05\n",
      "==============================================================================\n",
      "\n",
      "Notes:\n",
      "[1] Standard Errors assume that the covariance matrix of the errors is correctly specified.\n",
      "[2] The condition number is large, 6.27e+05. This might indicate that there are\n",
      "strong multicollinearity or other numerical problems.\n"
     ]
    },
    {
     "name": "stderr",
     "output_type": "stream",
     "text": [
      "/Library/Frameworks/Python.framework/Versions/3.10/lib/python3.10/site-packages/scipy/stats/_stats_py.py:1769: UserWarning: kurtosistest only valid for n>=20 ... continuing anyway, n=13\n",
      "  warnings.warn(\"kurtosistest only valid for n>=20 ... continuing \"\n"
     ]
    },
    {
     "data": {
      "text/plain": [
       "<matplotlib.collections.PathCollection at 0x290e1ec80>"
      ]
     },
     "execution_count": 203,
     "metadata": {},
     "output_type": "execute_result"
    },
    {
     "data": {
      "image/png": "[encoded data removed]",
      "text/plain": [
       "<Figure size 640x480 with 1 Axes>"
      ]
     },
     "metadata": {},
     "output_type": "display_data"
    }
   ],
   "source": [
    "import seaborn as sns\n",
    "\n",
    "from statsmodels.formula.api import ols\n",
    "\n",
    "res = multipleLinear()\n",
    "model = ols('mortality ~ literacy + poverty + gdp + current_health + labor_force ', data=res).fit()\n",
    "print(model.summary())\n",
    "sm.stats.anova_lm(model)\n",
    "\n",
    "b0 = model.params[0] \n",
    "\n",
    "b1 = model.params[1] #literacy\n",
    "\n",
    "b2= model.params[2] #Poverty\n",
    "\n",
    "b3= model.params[3] #Gdp\n",
    "\n",
    "b4= model.params[4] #health\n",
    "\n",
    "b5= model.params[5] #labor_force\n",
    "\n",
    "prediciton = b0 + b1*literacy_value + b2*poverty_value + b3*gdp_value + b4*health_value + b5*labor_value\n",
    "plt.scatter(prediciton,mortality_value)\n"
   ]
  },
  {
   "cell_type": "markdown",
   "id": "1af3d05f-26e8-4e21-8cc8-5df66f63f49e",
   "metadata": {},
   "source": [
    "# Question 2\n",
    "\n",
    "For this question use Yahoo's Finance API for the following tickers:\n",
    "\n",
    "* Gold futures (GC=F)\n",
    "* Silver futures (SI=F)\n",
    "* Copper futures (HG=F)\n",
    "* Platinum futures (PL=F)\n",
    "\n",
    "1. Write the best linear regression model that explains gold futures closing prices in terms of opening prices of gold, silver, copper, and platinum futures.\n",
    "2. Repeat the same for silver, copper and platinum prices.\n",
    "3. Compare the models you obtained in Steps 1 and 2. Which model is better? How do you decide? Explain."
   ]
  },
  {
   "cell_type": "markdown",
   "id": "40f415ae",
   "metadata": {},
   "source": [
    "2.1"
   ]
  },
  {
   "cell_type": "code",
   "execution_count": 262,
   "id": "a3e5876d-f2b7-4a10-957b-a1c7d0fec178",
   "metadata": {},
   "outputs": [],
   "source": [
    "import yfinance as yf\n",
    "\n",
    "msft1 = yf.Ticker(\"GC=F\")\n",
    "hist1 = msft1.history(period=\"max\")\n",
    "gold_open1 = hist1['Open']\n",
    "gold_open = gold_open1.to_frame()\n",
    "\n",
    "\n",
    "msft2 = yf.Ticker(\"GC=F\")\n",
    "hist2 = msft2.history(period=\"max\")\n",
    "gold_close1 = hist2['Close']\n",
    "gold_close = gold_close1.to_frame()\n"
   ]
  },
  {
   "cell_type": "code",
   "execution_count": 330,
   "id": "8a1df76d",
   "metadata": {},
   "outputs": [],
   "source": [
    "msft3 = yf.Ticker(\"SI=F\")\n",
    "hist3 = msft3.history(period=\"max\")\n",
    "silver_open1 = hist3['Open']\n",
    "silver_open = silver_open1.to_frame()\n",
    "\n",
    "msft8 = yf.Ticker(\"SI=F\")\n",
    "hist8 = msft8.history(period=\"max\")\n",
    "silver_close1 = hist8['Close']\n",
    "silver_close = silver_close1.to_frame()\n",
    "\n",
    "msft4 = yf.Ticker(\"HG=F\")\n",
    "hist4 = msft4.history(period=\"max\")\n",
    "copper_open1 = hist4['Open']\n",
    "copper_open = copper_open1.to_frame()\n",
    "\n",
    "msft7 = yf.Ticker(\"HG=F\")\n",
    "hist7 = msft7.history(period=\"max\")\n",
    "copper_close1 = hist7['Close']\n",
    "copper_close = copper_close1.to_frame()\n",
    "\n",
    "msft5 = yf.Ticker(\"PL=F\")\n",
    "hist5 = msft5.history(period=\"max\")\n",
    "platinum_open1 = hist5['Open']\n",
    "platinum_open = platinum_open1.to_frame()\n",
    "\n",
    "msft6 = yf.Ticker(\"PL=F\")\n",
    "hist6 = msft6.history(period=\"max\")\n",
    "platinum_close1 = hist6['Close']\n",
    "platinum_close = platinum_close1.to_frame()\n",
    "\n"
   ]
  },
  {
   "cell_type": "code",
   "execution_count": 288,
   "id": "59f7edcb",
   "metadata": {},
   "outputs": [
    {
     "name": "stdout",
     "output_type": "stream",
     "text": [
      "                            OLS Regression Results                            \n",
      "==============================================================================\n",
      "Dep. Variable:              GoldClose   R-squared:                       1.000\n",
      "Model:                            OLS   Adj. R-squared:                  1.000\n",
      "Method:                 Least Squares   F-statistic:                 2.519e+06\n",
      "Date:                Thu, 03 Nov 2022   Prob (F-statistic):               0.00\n",
      "Time:                        20:12:44   Log-Likelihood:                -18718.\n",
      "No. Observations:                4863   AIC:                         3.745e+04\n",
      "Df Residuals:                    4858   BIC:                         3.748e+04\n",
      "Df Model:                           4                                         \n",
      "Covariance Type:            nonrobust                                         \n",
      "=================================================================================\n",
      "                    coef    std err          t      P>|t|      [0.025      0.975]\n",
      "---------------------------------------------------------------------------------\n",
      "const             0.4589      0.659      0.696      0.486      -0.833       1.751\n",
      "('GoldOpen',)     0.9987      0.001   1106.110      0.000       0.997       1.000\n",
      "('Platinum',)    -0.0008      0.001     -0.818      0.413      -0.003       0.001\n",
      "('Copper',)       0.6029      0.359      1.679      0.093      -0.101       1.307\n",
      "('Silver',)       0.0056      0.059      0.095      0.925      -0.110       0.121\n",
      "==============================================================================\n",
      "Omnibus:                     1519.197   Durbin-Watson:                   2.063\n",
      "Prob(Omnibus):                  0.000   Jarque-Bera (JB):            30260.796\n",
      "Skew:                          -0.993   Prob(JB):                         0.00\n",
      "Kurtosis:                      15.058   Cond. No.                     6.72e+03\n",
      "==============================================================================\n",
      "\n",
      "Notes:\n",
      "[1] Standard Errors assume that the covariance matrix of the errors is correctly specified.\n",
      "[2] The condition number is large, 6.72e+03. This might indicate that there are\n",
      "strong multicollinearity or other numerical problems.\n"
     ]
    },
    {
     "data": {
      "text/plain": [
       "array([[ 9.98708129e-01, -7.77771088e-04,  6.02923974e-01,\n",
       "         5.58366128e-03]])"
      ]
     },
     "execution_count": 288,
     "metadata": {},
     "output_type": "execute_result"
    }
   ],
   "source": [
    "def extract1(df,name):\n",
    "    tmp = df\n",
    "    tmp.columns = [[name]]\n",
    "    return tmp\n",
    "\n",
    "def multipleLinearYahoo(): #For close Gold\n",
    "    \n",
    "    gold_open3 = extract1(gold_open,'GoldOpen')\n",
    "    gold_close3 = extract1(gold_close,'GoldClose')\n",
    "    platinum_open3 = extract1(platinum_open,'Platinum')\n",
    "    copper_open3 = extract1(copper_open,'Copper')\n",
    "    silver_open3 = extract1(silver_open,'Silver')\n",
    "    \n",
    "    res2 = gold_open3.join([gold_close3,platinum_open3,copper_open3,silver_open3])\n",
    "    res2.dropna(inplace=True)\n",
    "    return res2\n",
    "\n",
    "res2 = multipleLinearYahoo()\n",
    "X1 = res2[['GoldOpen','Platinum','Copper','Silver']]\n",
    "XX1 = sm.add_constant(X1)\n",
    "Y1 = res2['GoldClose']\n",
    "model1 = sm.OLS(Y1,XX1)\n",
    "results = model1.fit()\n",
    "print(results.summary())\n",
    "\n",
    "reg1 = LinearRegression()\n",
    "reg1.fit(X1,Y1)\n",
    "Intercept1=reg1.intercept_\n",
    "Coefficients1=reg1.coef_\n",
    "Intercept1\n",
    "Coefficients1\n"
   ]
  },
  {
   "cell_type": "code",
   "execution_count": 298,
   "id": "e1713acc",
   "metadata": {},
   "outputs": [
    {
     "name": "stdout",
     "output_type": "stream",
     "text": [
      "                            OLS Regression Results                            \n",
      "==============================================================================\n",
      "Dep. Variable:              GoldClose   R-squared:                       1.000\n",
      "Model:                            OLS   Adj. R-squared:                  1.000\n",
      "Method:                 Least Squares   F-statistic:                 2.519e+06\n",
      "Date:                Thu, 03 Nov 2022   Prob (F-statistic):               0.00\n",
      "Time:                        20:18:29   Log-Likelihood:                -18718.\n",
      "No. Observations:                4863   AIC:                         3.745e+04\n",
      "Df Residuals:                    4858   BIC:                         3.748e+04\n",
      "Df Model:                           4                                         \n",
      "Covariance Type:            nonrobust                                         \n",
      "==============================================================================\n",
      "                 coef    std err          t      P>|t|      [0.025      0.975]\n",
      "------------------------------------------------------------------------------\n",
      "Intercept      0.4589      0.659      0.696      0.486      -0.833       1.751\n",
      "GoldOpen       0.9987      0.001   1106.110      0.000       0.997       1.000\n",
      "Platinum      -0.0008      0.001     -0.818      0.413      -0.003       0.001\n",
      "Copper         0.6029      0.359      1.679      0.093      -0.101       1.307\n",
      "Silver         0.0056      0.059      0.095      0.925      -0.110       0.121\n",
      "==============================================================================\n",
      "Omnibus:                     1519.197   Durbin-Watson:                   2.063\n",
      "Prob(Omnibus):                  0.000   Jarque-Bera (JB):            30260.796\n",
      "Skew:                          -0.993   Prob(JB):                         0.00\n",
      "Kurtosis:                      15.058   Cond. No.                     6.72e+03\n",
      "==============================================================================\n",
      "\n",
      "Notes:\n",
      "[1] Standard Errors assume that the covariance matrix of the errors is correctly specified.\n",
      "[2] The condition number is large, 6.72e+03. This might indicate that there are\n",
      "strong multicollinearity or other numerical problems.\n"
     ]
    }
   ],
   "source": [
    "model2 = ols('GoldClose ~ GoldOpen + Platinum + Copper + Silver', data=res2).fit()\n",
    "print(model2.summary())\n",
    "sm.stats.anova_lm(model2)\n",
    "\n",
    "a0 = model2.params[0] \n",
    "\n",
    "a1 = model2.params[1] \n",
    "\n",
    "a2= model2.params[2] \n",
    "\n",
    "a3= model2.params[3] \n",
    "\n",
    "a4= model2.params[4] \n",
    "\n",
    "prediciton1 = a0 + a1*gold_open1.values + a2*platinum_open1.values + b3*copper_open1.values + a4*silver_open1.values \n",
    "plt.scatter(prediciton1,gold_close1.values)\n"
   ]
  },
  {
   "cell_type": "markdown",
   "id": "0bb770d4",
   "metadata": {},
   "source": [
    "2.2"
   ]
  },
  {
   "cell_type": "code",
   "execution_count": 332,
   "id": "7f681685",
   "metadata": {},
   "outputs": [
    {
     "name": "stdout",
     "output_type": "stream",
     "text": [
      "                            OLS Regression Results                            \n",
      "==============================================================================\n",
      "Dep. Variable:          PlatinumClose   R-squared:                       0.999\n",
      "Model:                            OLS   Adj. R-squared:                  0.999\n",
      "Method:                 Least Squares   F-statistic:                 2.080e+06\n",
      "Date:                Thu, 03 Nov 2022   Prob (F-statistic):               0.00\n",
      "Time:                        21:00:22   Log-Likelihood:                -17502.\n",
      "No. Observations:                4863   AIC:                         3.501e+04\n",
      "Df Residuals:                    4858   BIC:                         3.505e+04\n",
      "Df Model:                           4                                         \n",
      "Covariance Type:            nonrobust                                         \n",
      "=================================================================================\n",
      "                    coef    std err          t      P>|t|      [0.025      0.975]\n",
      "---------------------------------------------------------------------------------\n",
      "const             0.8707      0.513      1.696      0.090      -0.136       1.877\n",
      "('GoldOpen',)    -0.0013      0.001     -1.911      0.056      -0.003    3.47e-05\n",
      "('Platinum',)     0.9994      0.001   1349.681      0.000       0.998       1.001\n",
      "('Copper',)       0.1796      0.280      0.642      0.521      -0.369       0.728\n",
      "('Silver',)       0.0644      0.046      1.401      0.161      -0.026       0.155\n",
      "==============================================================================\n",
      "Omnibus:                     2697.251   Durbin-Watson:                   1.920\n",
      "Prob(Omnibus):                  0.000   Jarque-Bera (JB):           435156.951\n",
      "Skew:                          -1.597   Prob(JB):                         0.00\n",
      "Kurtosis:                      49.232   Cond. No.                     6.72e+03\n",
      "==============================================================================\n",
      "\n",
      "Notes:\n",
      "[1] Standard Errors assume that the covariance matrix of the errors is correctly specified.\n",
      "[2] The condition number is large, 6.72e+03. This might indicate that there are\n",
      "strong multicollinearity or other numerical problems.\n"
     ]
    }
   ],
   "source": [
    "def multipleLinearYahoo1():  #For Close Platinum\n",
    "    \n",
    "    gold_open3 = extract1(gold_open,'GoldOpen')\n",
    "    platinum_close3 = extract1(platinum_close,'PlatinumClose')\n",
    "    platinum_open3 = extract1(platinum_open,'Platinum')\n",
    "    copper_open3 = extract1(copper_open,'Copper')\n",
    "    silver_open3 = extract1(silver_open,'Silver')\n",
    "    \n",
    "    res3 = gold_open3.join([platinum_close3,platinum_open3,copper_open3,silver_open3])\n",
    "    res3.dropna(inplace=True)\n",
    "    return res3\n",
    "\n",
    "res3 = multipleLinearYahoo1()\n",
    "X2 = res3[['GoldOpen','Platinum','Copper','Silver']]\n",
    "XX2 = sm.add_constant(X2)\n",
    "Y2 = res3['PlatinumClose']\n",
    "model2 = sm.OLS(Y2,XX2)\n",
    "results = model2.fit()\n",
    "print(results.summary())"
   ]
  },
  {
   "cell_type": "code",
   "execution_count": 333,
   "id": "70c486d7",
   "metadata": {},
   "outputs": [
    {
     "name": "stdout",
     "output_type": "stream",
     "text": [
      "                            OLS Regression Results                            \n",
      "==============================================================================\n",
      "Dep. Variable:            CopperClose   R-squared:                       0.999\n",
      "Model:                            OLS   Adj. R-squared:                  0.999\n",
      "Method:                 Least Squares   F-statistic:                 1.032e+06\n",
      "Date:                Thu, 03 Nov 2022   Prob (F-statistic):               0.00\n",
      "Time:                        21:01:43   Log-Likelihood:                 8984.9\n",
      "No. Observations:                4863   AIC:                        -1.796e+04\n",
      "Df Residuals:                    4858   BIC:                        -1.793e+04\n",
      "Df Model:                           4                                         \n",
      "Covariance Type:            nonrobust                                         \n",
      "=================================================================================\n",
      "                    coef    std err          t      P>|t|      [0.025      0.975]\n",
      "---------------------------------------------------------------------------------\n",
      "const            -0.0021      0.002     -0.938      0.348      -0.006       0.002\n",
      "('GoldOpen',)  5.328e-06   3.03e-06      1.758      0.079   -6.15e-07    1.13e-05\n",
      "('Platinum',)  8.111e-06   3.19e-06      2.541      0.011    1.85e-06    1.44e-05\n",
      "('Copper',)       0.9991      0.001    828.796      0.000       0.997       1.001\n",
      "('Silver',)      -0.0006      0.000     -2.779      0.005      -0.001      -0.000\n",
      "==============================================================================\n",
      "Omnibus:                      880.465   Durbin-Watson:                   2.145\n",
      "Prob(Omnibus):                  0.000   Jarque-Bera (JB):            17112.310\n",
      "Skew:                           0.291   Prob(JB):                         0.00\n",
      "Kurtosis:                      12.171   Cond. No.                     6.72e+03\n",
      "==============================================================================\n",
      "\n",
      "Notes:\n",
      "[1] Standard Errors assume that the covariance matrix of the errors is correctly specified.\n",
      "[2] The condition number is large, 6.72e+03. This might indicate that there are\n",
      "strong multicollinearity or other numerical problems.\n"
     ]
    }
   ],
   "source": [
    "def multipleLinearYahoo2():\n",
    "    \n",
    "    gold_open3 = extract1(gold_open,'GoldOpen')\n",
    "    copper_close3 = extract1(copper_close,'CopperClose')\n",
    "    platinum_open3 = extract1(platinum_open,'Platinum')\n",
    "    copper_open3 = extract1(copper_open,'Copper')\n",
    "    silver_open3 = extract1(silver_open,'Silver')\n",
    "    \n",
    "    res4 = gold_open3.join([copper_close3,platinum_open3,copper_open3,silver_open3])\n",
    "    res4.dropna(inplace=True)\n",
    "    return res4\n",
    "\n",
    "res4 = multipleLinearYahoo2()\n",
    "X3 = res4[['GoldOpen','Platinum','Copper','Silver']]\n",
    "XX3 = sm.add_constant(X3)\n",
    "Y3 = res4['CopperClose']\n",
    "model3 = sm.OLS(Y3,XX3)\n",
    "results = model3.fit()\n",
    "print(results.summary())"
   ]
  },
  {
   "cell_type": "code",
   "execution_count": 335,
   "id": "e3241170",
   "metadata": {},
   "outputs": [
    {
     "name": "stdout",
     "output_type": "stream",
     "text": [
      "                            OLS Regression Results                            \n",
      "==============================================================================\n",
      "Dep. Variable:            SilverClose   R-squared:                       0.999\n",
      "Model:                            OLS   Adj. R-squared:                  0.999\n",
      "Method:                 Least Squares   F-statistic:                 9.080e+05\n",
      "Date:                Thu, 03 Nov 2022   Prob (F-statistic):               0.00\n",
      "Time:                        21:03:33   Log-Likelihood:                -1304.6\n",
      "No. Observations:                4863   AIC:                             2619.\n",
      "Df Residuals:                    4858   BIC:                             2652.\n",
      "Df Model:                           4                                         \n",
      "Covariance Type:            nonrobust                                         \n",
      "=================================================================================\n",
      "                    coef    std err          t      P>|t|      [0.025      0.975]\n",
      "---------------------------------------------------------------------------------\n",
      "const            -0.0358      0.018     -1.947      0.052      -0.072       0.000\n",
      "('GoldOpen',)  4.947e-05   2.52e-05      1.967      0.049    1.62e-07    9.88e-05\n",
      "('Platinum',)  7.577e-05   2.65e-05      2.861      0.004    2.39e-05       0.000\n",
      "('Copper',)       0.0031      0.010      0.314      0.754      -0.016       0.023\n",
      "('Silver',)       0.9930      0.002    604.172      0.000       0.990       0.996\n",
      "==============================================================================\n",
      "Omnibus:                     3601.439   Durbin-Watson:                   1.997\n",
      "Prob(Omnibus):                  0.000   Jarque-Bera (JB):           460420.038\n",
      "Skew:                          -2.713   Prob(JB):                         0.00\n",
      "Kurtosis:                      50.358   Cond. No.                     6.72e+03\n",
      "==============================================================================\n",
      "\n",
      "Notes:\n",
      "[1] Standard Errors assume that the covariance matrix of the errors is correctly specified.\n",
      "[2] The condition number is large, 6.72e+03. This might indicate that there are\n",
      "strong multicollinearity or other numerical problems.\n"
     ]
    }
   ],
   "source": [
    "def multipleLinearYahoo3():\n",
    "    \n",
    "    gold_open3 = extract1(gold_open,'GoldOpen')\n",
    "    silver_close3 = extract1(silver_close,'SilverClose')\n",
    "    platinum_open3 = extract1(platinum_open,'Platinum')\n",
    "    copper_open3 = extract1(copper_open,'Copper')\n",
    "    silver_open3 = extract1(silver_open,'Silver')\n",
    "    \n",
    "    res5 = gold_open3.join([silver_close3,platinum_open3,copper_open3,silver_open3])\n",
    "    res5.dropna(inplace=True)\n",
    "    return res5\n",
    "\n",
    "res5 = multipleLinearYahoo3()\n",
    "X4 = res5[['GoldOpen','Platinum','Copper','Silver']]\n",
    "XX4 = sm.add_constant(X4)\n",
    "Y4 = res5['SilverClose']\n",
    "model4 = sm.OLS(Y4,XX4)\n",
    "results = model4.fit()\n",
    "print(results.summary())"
   ]
  },
  {
   "cell_type": "markdown",
   "id": "a63ccc4a",
   "metadata": {},
   "source": [
    "2.3"
   ]
  },
  {
   "cell_type": "markdown",
   "id": "b31f73f0",
   "metadata": {},
   "source": [
    "When we look at the R-square value, it is observed that the 1st step has a better value. However, the p-values ​​of step 2 make more sense."
   ]
  },
  {
   "cell_type": "markdown",
   "id": "e6784ded-5ebb-492d-a244-62c7d42ec457",
   "metadata": {},
   "source": [
    "# Question 3\n",
    "\n",
    "1. Write a function that takes a ticker symbol and returns a pandas dataframe that for each day puts a 1 when the closing price is higher than the opening price, a 0 when the closing price is lower than the opening price.\n",
    "2. Write the best logistic regression that predicts the time series you obtain from Step 1 for gold futures against the opening prices of gold, silver, copper, and platinum prices.\n",
    "3. Repeat the same for silver, copper, and platinum prices.\n",
    "4. Compare the models you obtained from Steps 2 and 3. Decide which is the best model, and explain your reasoning.\n",
    "5. Does any of the models provide a good fit? Explain."
   ]
  },
  {
   "cell_type": "code",
   "execution_count": 438,
   "id": "7d3bef02",
   "metadata": {},
   "outputs": [],
   "source": [
    "import numpy as np\n",
    "import pandas as pd\n",
    "import matplotlib.pyplot as plt\n",
    "\n",
    "from zipfile import ZipFile\n",
    "from io import BytesIO\n",
    "from urllib.request import urlopen\n",
    "from collections import Counter\n",
    "from sklearn.metrics import confusion_matrix\n",
    "\n",
    "from statsmodels.formula.api import logit\n",
    "from statsmodels.api import Logit\n",
    "\n",
    "from sklearn.preprocessing import OneHotEncoder\n",
    "from sklearn.model_selection import train_test_split\n",
    "from sklearn.linear_model import LogisticRegression, LinearRegression\n",
    "from sklearn.tree import DecisionTreeRegressor"
   ]
  },
  {
   "cell_type": "markdown",
   "id": "9c8d8e58",
   "metadata": {},
   "source": [
    "3.1"
   ]
  },
  {
   "cell_type": "code",
   "execution_count": 493,
   "id": "e67d2161-b332-47d0-8f16-b829520d55bd",
   "metadata": {},
   "outputs": [
    {
     "data": {
      "text/html": [
       "<div>\n",
       "<style scoped>\n",
       "    .dataframe tbody tr th:only-of-type {\n",
       "        vertical-align: middle;\n",
       "    }\n",
       "\n",
       "    .dataframe tbody tr th {\n",
       "        vertical-align: top;\n",
       "    }\n",
       "\n",
       "    .dataframe thead th {\n",
       "        text-align: right;\n",
       "    }\n",
       "</style>\n",
       "<table border=\"1\" class=\"dataframe\">\n",
       "  <thead>\n",
       "    <tr style=\"text-align: right;\">\n",
       "      <th></th>\n",
       "      <th>Element1</th>\n",
       "    </tr>\n",
       "  </thead>\n",
       "  <tbody>\n",
       "    <tr>\n",
       "      <th>0</th>\n",
       "      <td>0</td>\n",
       "    </tr>\n",
       "    <tr>\n",
       "      <th>1</th>\n",
       "      <td>1</td>\n",
       "    </tr>\n",
       "    <tr>\n",
       "      <th>2</th>\n",
       "      <td>0</td>\n",
       "    </tr>\n",
       "    <tr>\n",
       "      <th>3</th>\n",
       "      <td>0</td>\n",
       "    </tr>\n",
       "    <tr>\n",
       "      <th>4</th>\n",
       "      <td>0</td>\n",
       "    </tr>\n",
       "    <tr>\n",
       "      <th>...</th>\n",
       "      <td>...</td>\n",
       "    </tr>\n",
       "    <tr>\n",
       "      <th>5561</th>\n",
       "      <td>0</td>\n",
       "    </tr>\n",
       "    <tr>\n",
       "      <th>5562</th>\n",
       "      <td>0</td>\n",
       "    </tr>\n",
       "    <tr>\n",
       "      <th>5563</th>\n",
       "      <td>1</td>\n",
       "    </tr>\n",
       "    <tr>\n",
       "      <th>5564</th>\n",
       "      <td>0</td>\n",
       "    </tr>\n",
       "    <tr>\n",
       "      <th>5565</th>\n",
       "      <td>1</td>\n",
       "    </tr>\n",
       "  </tbody>\n",
       "</table>\n",
       "<p>5566 rows × 1 columns</p>\n",
       "</div>"
      ],
      "text/plain": [
       "      Element1\n",
       "0            0\n",
       "1            1\n",
       "2            0\n",
       "3            0\n",
       "4            0\n",
       "...        ...\n",
       "5561         0\n",
       "5562         0\n",
       "5563         1\n",
       "5564         0\n",
       "5565         1\n",
       "\n",
       "[5566 rows x 1 columns]"
      ]
     },
     "execution_count": 493,
     "metadata": {},
     "output_type": "execute_result"
    }
   ],
   "source": [
    "def checker(tickers) :\n",
    "    dogru = 1\n",
    "    yanlis = 0\n",
    "    msft1 = yf.Ticker(tickers)\n",
    "    hist1 = msft1.history(period=\"max\")\n",
    "    opening = hist1['Open']\n",
    "    closing = hist1['Close']\n",
    "    df = pd.DataFrame(columns=['Element1'])\n",
    "    a=len(hist1)\n",
    "    for i in range(a):\n",
    "        if opening[i] < closing[i]:\n",
    "            df.loc[i] = [dogru]\n",
    "        else :\n",
    "            df.loc[i] = [yanlis]\n",
    "    return df\n",
    "\n",
    "gold = checker(\"GC=F\")\n",
    "silver = checker('SI=F')\n",
    "copper = checker('HG=F')\n",
    "platinum = checker('PL=F')\n",
    "gold #Deneme"
   ]
  },
  {
   "cell_type": "markdown",
   "id": "71fa4329",
   "metadata": {},
   "source": [
    "3.2 and 3.3 , 3.4 , 3.5"
   ]
  },
  {
   "cell_type": "code",
   "execution_count": null,
   "id": "cd980fe3",
   "metadata": {},
   "outputs": [],
   "source": [
    "msft1 = yf.Ticker(\"GC=F\")\n",
    "hist1 = msft1.history(period=\"max\")\n",
    "gold_open1 = hist1['Open']\n",
    "gold_open = gold_open1.to_frame().values\n",
    "\n",
    "msft3 = yf.Ticker(\"SI=F\")\n",
    "hist3 = msft3.history(period=\"max\")\n",
    "silver_open1 = hist3['Open']\n",
    "silver_open = silver_open1.to_frame().values\n",
    "\n",
    "msft4 = yf.Ticker(\"HG=F\")\n",
    "hist4 = msft4.history(period=\"max\")\n",
    "copper_open1 = hist4['Open']\n",
    "copper_open = copper_open1.to_frame().values\n",
    "\n",
    "msft5 = yf.Ticker(\"PL=F\")\n",
    "hist5 = msft5.history(period=\"max\")\n",
    "platinum_open1 = hist5['Open']\n",
    "platinum_open = platinum_open1.to_frame().values\n",
    "\n",
    "x=gold_open1\n",
    "y=gold\n",
    "\n",
    "plt.scatter(x,y)\n",
    "plt.show()\n",
    "\n",
    "x_train, x_test, y_train, t_test = train_test_split(x,y,random_state=1)\n",
    "\n",
    "log_reg = LogisticRegression()\n",
    "log_reg.fit(x_train,y_train)"
   ]
  },
  {
   "cell_type": "markdown",
   "id": "17365a32-866c-40d2-8ac9-5d0dcfaba69b",
   "metadata": {},
   "source": [
    "# Question 4\n",
    "\n",
    "For this question use the following [data](https://archive.ics.uci.edu/ml/datasets/credit+approval):\n"
   ]
  },
  {
   "cell_type": "code",
   "execution_count": 3,
   "id": "365d759b-b783-4539-96d0-8b6db6979c44",
   "metadata": {},
   "outputs": [],
   "source": [
    "credit = pd.read_csv('https://archive.ics.uci.edu/ml/machine-learning-databases/credit-screening/crx.data', header=None)\n",
    "\n",
    "fn = {'+': 1, '-': 0}\n",
    "\n",
    "X = credit.replace('?',0).iloc[:,[1,2,7,10,14]]\n",
    "y = credit.iloc[:,15].map(lambda x: fn.get(x,0))"
   ]
  },
  {
   "cell_type": "markdown",
   "id": "e7ebfd20-ff04-43dc-b00d-508a110ff3b3",
   "metadata": {},
   "source": [
    "1. Split the data into training and test set.\n",
    "2. Write different logistic regression models predicting y against X.\n",
    "3. Construct [confusion matrices](https://scikit-learn.org/stable/modules/generated/sklearn.metrics.confusion_matrix.html) on the test data set for these different models.\n",
    "4. Analyze these models. Explain which model is the best model you have found.\n",
    "5. Repeat Steps 1-4 several times. Does your best model stay as the best model? What should be the correct protocol to decide on the best model explaining the data?"
   ]
  },
  {
   "cell_type": "markdown",
   "id": "b2d60afb",
   "metadata": {},
   "source": [
    "Question 4 :"
   ]
  },
  {
   "cell_type": "code",
   "execution_count": 530,
   "id": "58b95aa6",
   "metadata": {},
   "outputs": [
    {
     "data": {
      "text/html": [
       "<div>\n",
       "<style scoped>\n",
       "    .dataframe tbody tr th:only-of-type {\n",
       "        vertical-align: middle;\n",
       "    }\n",
       "\n",
       "    .dataframe tbody tr th {\n",
       "        vertical-align: top;\n",
       "    }\n",
       "\n",
       "    .dataframe thead th {\n",
       "        text-align: right;\n",
       "    }\n",
       "</style>\n",
       "<table border=\"1\" class=\"dataframe\">\n",
       "  <thead>\n",
       "    <tr style=\"text-align: right;\">\n",
       "      <th></th>\n",
       "      <th>1</th>\n",
       "      <th>2</th>\n",
       "      <th>7</th>\n",
       "      <th>10</th>\n",
       "      <th>14</th>\n",
       "    </tr>\n",
       "  </thead>\n",
       "  <tbody>\n",
       "    <tr>\n",
       "      <th>0</th>\n",
       "      <td>30.83</td>\n",
       "      <td>0.000</td>\n",
       "      <td>1.25</td>\n",
       "      <td>1</td>\n",
       "      <td>0</td>\n",
       "    </tr>\n",
       "    <tr>\n",
       "      <th>1</th>\n",
       "      <td>58.67</td>\n",
       "      <td>4.460</td>\n",
       "      <td>3.04</td>\n",
       "      <td>6</td>\n",
       "      <td>560</td>\n",
       "    </tr>\n",
       "    <tr>\n",
       "      <th>2</th>\n",
       "      <td>24.50</td>\n",
       "      <td>0.500</td>\n",
       "      <td>1.50</td>\n",
       "      <td>0</td>\n",
       "      <td>824</td>\n",
       "    </tr>\n",
       "    <tr>\n",
       "      <th>3</th>\n",
       "      <td>27.83</td>\n",
       "      <td>1.540</td>\n",
       "      <td>3.75</td>\n",
       "      <td>5</td>\n",
       "      <td>3</td>\n",
       "    </tr>\n",
       "    <tr>\n",
       "      <th>4</th>\n",
       "      <td>20.17</td>\n",
       "      <td>5.625</td>\n",
       "      <td>1.71</td>\n",
       "      <td>0</td>\n",
       "      <td>0</td>\n",
       "    </tr>\n",
       "    <tr>\n",
       "      <th>...</th>\n",
       "      <td>...</td>\n",
       "      <td>...</td>\n",
       "      <td>...</td>\n",
       "      <td>...</td>\n",
       "      <td>...</td>\n",
       "    </tr>\n",
       "    <tr>\n",
       "      <th>685</th>\n",
       "      <td>21.08</td>\n",
       "      <td>10.085</td>\n",
       "      <td>1.25</td>\n",
       "      <td>0</td>\n",
       "      <td>0</td>\n",
       "    </tr>\n",
       "    <tr>\n",
       "      <th>686</th>\n",
       "      <td>22.67</td>\n",
       "      <td>0.750</td>\n",
       "      <td>2.00</td>\n",
       "      <td>2</td>\n",
       "      <td>394</td>\n",
       "    </tr>\n",
       "    <tr>\n",
       "      <th>687</th>\n",
       "      <td>25.25</td>\n",
       "      <td>13.500</td>\n",
       "      <td>2.00</td>\n",
       "      <td>1</td>\n",
       "      <td>1</td>\n",
       "    </tr>\n",
       "    <tr>\n",
       "      <th>688</th>\n",
       "      <td>17.92</td>\n",
       "      <td>0.205</td>\n",
       "      <td>0.04</td>\n",
       "      <td>0</td>\n",
       "      <td>750</td>\n",
       "    </tr>\n",
       "    <tr>\n",
       "      <th>689</th>\n",
       "      <td>35.00</td>\n",
       "      <td>3.375</td>\n",
       "      <td>8.29</td>\n",
       "      <td>0</td>\n",
       "      <td>0</td>\n",
       "    </tr>\n",
       "  </tbody>\n",
       "</table>\n",
       "<p>690 rows × 5 columns</p>\n",
       "</div>"
      ],
      "text/plain": [
       "        1       2     7   10   14\n",
       "0    30.83   0.000  1.25   1    0\n",
       "1    58.67   4.460  3.04   6  560\n",
       "2    24.50   0.500  1.50   0  824\n",
       "3    27.83   1.540  3.75   5    3\n",
       "4    20.17   5.625  1.71   0    0\n",
       "..     ...     ...   ...  ..  ...\n",
       "685  21.08  10.085  1.25   0    0\n",
       "686  22.67   0.750  2.00   2  394\n",
       "687  25.25  13.500  2.00   1    1\n",
       "688  17.92   0.205  0.04   0  750\n",
       "689  35.00   3.375  8.29   0    0\n",
       "\n",
       "[690 rows x 5 columns]"
      ]
     },
     "execution_count": 530,
     "metadata": {},
     "output_type": "execute_result"
    }
   ],
   "source": [
    "graph1"
   ]
  },
  {
   "cell_type": "code",
   "execution_count": 531,
   "id": "4662ce95",
   "metadata": {},
   "outputs": [
    {
     "data": {
      "text/plain": [
       "0      1\n",
       "1      1\n",
       "2      1\n",
       "3      1\n",
       "4      1\n",
       "      ..\n",
       "685    0\n",
       "686    0\n",
       "687    0\n",
       "688    0\n",
       "689    0\n",
       "Name: 15, Length: 690, dtype: int64"
      ]
     },
     "execution_count": 531,
     "metadata": {},
     "output_type": "execute_result"
    }
   ],
   "source": [
    "graph2"
   ]
  },
  {
   "cell_type": "code",
   "execution_count": 528,
   "id": "e2f37cde-dcc2-48f1-ae91-3a615b63e0fb",
   "metadata": {},
   "outputs": [
    {
     "data": {
      "text/plain": [
       "(0.7109826589595376, 0.8265895953757225)"
      ]
     },
     "execution_count": 528,
     "metadata": {},
     "output_type": "execute_result"
    }
   ],
   "source": [
    "credit = pd.read_csv('https://archive.ics.uci.edu/ml/machine-learning-databases/credit-screening/crx.data', header=None)\n",
    "fn = {'+': 1, '-': 0}\n",
    "\n",
    "graph1 = credit.replace('?',0).iloc[:,[1,2,7,10,14]]\n",
    "graph2 = credit.iloc[:,15].map(lambda x: fn.get(x,0))\n",
    "\n",
    "def bootstrap(X,y,model):\n",
    "    res = []\n",
    "    for i in range(100):\n",
    "        X_train, X_test, y_train, y_test = train_test_split(X,y,train_size=0.75)\n",
    "        model.fit(X_train,y_train)\n",
    "        res.append(model.score(X_test,y_test))\n",
    "    tmp = sorted(res)[3:97]\n",
    "    return (min(tmp),max(tmp))\n",
    "\n",
    "X= graph1[[1,2,7,10,14]]\n",
    "y=graph2\n",
    "model = LogisticRegression(max_iter=1500)\n",
    "bootstrap(X,y,model)\n"
   ]
  },
  {
   "cell_type": "code",
   "execution_count": 529,
   "id": "00d0ce45",
   "metadata": {},
   "outputs": [
    {
     "name": "stdout",
     "output_type": "stream",
     "text": [
      "0.7456647398843931\n"
     ]
    },
    {
     "data": {
      "text/plain": [
       "array([[83,  8],\n",
       "       [36, 46]])"
      ]
     },
     "execution_count": 529,
     "metadata": {},
     "output_type": "execute_result"
    }
   ],
   "source": [
    "X_train, X_test, y_train, y_test = train_test_split(X,y,train_size=0.75)\n",
    "\n",
    "model = LogisticRegression(max_iter=1500)\n",
    "model.fit(X_train,y_train)\n",
    "print(model.score(X_test,y_test))\n",
    "y_predict = model.predict(X_test)\n",
    "confusion_matrix(y_test,y_predict)"
   ]
  },
  {
   "cell_type": "markdown",
   "id": "1287832c",
   "metadata": {},
   "source": [
    "Confusion Matrix"
   ]
  },
  {
   "cell_type": "code",
   "execution_count": 525,
   "id": "1a2b428b",
   "metadata": {},
   "outputs": [
    {
     "data": {
      "image/png": "[encoded data removed]",
      "text/plain": [
       "<Figure size 640x480 with 2 Axes>"
      ]
     },
     "metadata": {},
     "output_type": "display_data"
    }
   ],
   "source": [
    "import matplotlib.pyplot as plt\n",
    "from sklearn.datasets import make_classification\n",
    "from sklearn.metrics import confusion_matrix, ConfusionMatrixDisplay\n",
    "from sklearn.model_selection import train_test_split\n",
    "from sklearn.svm import SVC\n",
    "X, y = make_classification(random_state=0)\n",
    "X_train, X_test, y_train, y_test = train_test_split(X, y,random_state=0)\n",
    "clf = SVC(random_state=0)\n",
    "clf.fit(X_train, y_train)\n",
    "SVC(random_state=0)\n",
    "predictions = clf.predict(X_test)\n",
    "cm = confusion_matrix(y_test, predictions, labels=clf.classes_)\n",
    "disp = ConfusionMatrixDisplay(confusion_matrix=cm,display_labels=clf.classes_)\n",
    "disp.plot()\n",
    "\n",
    "plt.show()"
   ]
  },
  {
   "cell_type": "code",
   "execution_count": 527,
   "id": "2fa144fe",
   "metadata": {},
   "outputs": [
    {
     "name": "stdout",
     "output_type": "stream",
     "text": [
      "0.84\n"
     ]
    },
    {
     "data": {
      "text/plain": [
       "array([[14,  1],\n",
       "       [ 3,  7]])"
      ]
     },
     "execution_count": 527,
     "metadata": {},
     "output_type": "execute_result"
    }
   ],
   "source": [
    "X_train, X_test, y_train, y_test = train_test_split(X,y,train_size=0.75)\n",
    "\n",
    "model = LogisticRegression(max_iter=1500)\n",
    "model.fit(X_train,y_train)\n",
    "print(model.score(X_test,y_test))\n",
    "y_predict = model.predict(X_test)\n",
    "confusion_matrix(y_test,y_predict)"
   ]
  }
 ],
 "metadata": {
  "kernelspec": {
   "display_name": "Python 3 (ipykernel)",
   "language": "python",
   "name": "python3"
  },
  "language_info": {
   "codemirror_mode": {
    "name": "ipython",
    "version": 3
   },
   "file_extension": ".py",
   "mimetype": "text/x-python",
   "name": "python",
   "nbconvert_exporter": "python",
   "pygments_lexer": "ipython3",
   "version": "3.10.7"
  }
 },
 "nbformat": 4,
 "nbformat_minor": 5
}
