{
 "cells": [
  {
   "cell_type": "markdown",
   "id": "47dff7d2-6353-478c-b39d-9ba83d7b779b",
   "metadata": {},
   "source": [
    "# MAT 388, HW4"
   ]
  },
  {
   "cell_type": "markdown",
   "id": "35472d1b-55e1-444c-99ef-74b17f961e7b",
   "metadata": {},
   "source": [
    "## Q1\n",
    "\n",
    "For this question we are goint to use [CELEB_A](https://www.tensorflow.org/datasets/catalog/celeb_a) dataset through [tensorflow datasets](https://www.tensorflow.org/datasets).\n",
    "\n",
    "1. Ingest the data, and select 10000 images from the dataset. Put the images under a variable called `X` and class labels (attributes) into `y`.\n",
    "2. Build a neural network model for `X` against `Glasses` attribute in `y`.\n",
    "3. Test the accuracy of your model using a 5-fold cross-validation. (I want a %95 confidence interval on the returned result using a t-test as I did in one of my lectures.)\n",
    "4. Repeat Steps 2 and 3 for `Male` and `Bangs` attributes.\n",
    "5. Compare your results for `Glasses`, `Male` and `Bangs`. Which one is better? Why? Explain."
   ]
  },
  {
   "cell_type": "code",
   "execution_count": 1,
   "id": "4137fb27-6137-4f05-aced-83e1d7452fcf",
   "metadata": {},
   "outputs": [],
   "source": [
    "import math\n",
    "import numpy as np\n",
    "import pandas as pd\n",
    "import matplotlib.pyplot as plt\n",
    "import tensorflow as tf\n",
    "import keras as ks\n",
    "\n",
    "import nltk\n",
    "from keras.models import Sequential\n",
    "from keras.layers import Dense, Activation   \n",
    "from keras.datasets import mnist, fashion_mnist\n",
    "from keras.layers import Dense, Conv2D, Dropout, Flatten, MaxPooling2D, LSTM, Embedding , SimpleRNN \n",
    "from keras.utils import np_utils\n",
    "\n",
    "from sklearn.model_selection import train_test_split\n",
    "from sklearn.preprocessing import LabelBinarizer\n",
    "from sklearn.model_selection import train_test_split\n",
    "from sklearn.metrics import accuracy_score, confusion_matrix,  classification_report\n",
    "import tensorflow_datasets as tfds\n",
    "from sklearn.preprocessing import MultiLabelBinarizer\n",
    "from sklearn.model_selection import cross_val_score\n",
    "from keras.callbacks import EarlyStopping\n",
    "from nltk.corpus import stopwords\n",
    "\n",
    "\n",
    "from nltk.tokenize import sent_tokenize, word_tokenize\n",
    "\n",
    "import regex as re\n",
    "import scipy.io\n",
    "import urllib.request\n",
    "import requests\n"
   ]
  },
  {
   "cell_type": "code",
   "execution_count": 4,
   "id": "7fc8b7bf",
   "metadata": {},
   "outputs": [
    {
     "name": "stderr",
     "output_type": "stream",
     "text": [
      "[nltk_data] Downloading package stopwords to\n",
      "[nltk_data]     /Users/utkusert/nltk_data...\n",
      "[nltk_data]   Package stopwords is already up-to-date!\n",
      "[nltk_data] Downloading package punkt to /Users/utkusert/nltk_data...\n",
      "[nltk_data]   Package punkt is already up-to-date!\n"
     ]
    },
    {
     "data": {
      "text/plain": [
       "True"
      ]
     },
     "execution_count": 4,
     "metadata": {},
     "output_type": "execute_result"
    }
   ],
   "source": [
    "nltk.download('stopwords')\n",
    "nltk.download('punkt')"
   ]
  },
  {
   "cell_type": "code",
   "execution_count": 5,
   "id": "13186694",
   "metadata": {},
   "outputs": [
    {
     "name": "stderr",
     "output_type": "stream",
     "text": [
      "2022-12-17 16:32:53.348536: W tensorflow/tsl/platform/profile_utils/cpu_utils.cc:128] Failed to get CPU frequency: 0 Hz\n"
     ]
    }
   ],
   "source": [
    "data = tfds.load('celeb_a',split='train')\n",
    "data = data.take(10000)\n",
    "X1=[]\n",
    "y1=[]\n",
    "for i in data:\n",
    "    X1.append(i['image'])\n",
    "    y1.append(i['attributes'][\"Eyeglasses\"])"
   ]
  },
  {
   "cell_type": "code",
   "execution_count": 6,
   "id": "3805b7f4",
   "metadata": {},
   "outputs": [],
   "source": [
    "y = np.array(y1)\n",
    "X = np.array(X1)"
   ]
  },
  {
   "cell_type": "code",
   "execution_count": 7,
   "id": "86e4db7e",
   "metadata": {},
   "outputs": [
    {
     "data": {
      "text/plain": [
       "array([False, False, False, ..., False, False, False])"
      ]
     },
     "execution_count": 7,
     "metadata": {},
     "output_type": "execute_result"
    }
   ],
   "source": [
    "y"
   ]
  },
  {
   "cell_type": "code",
   "execution_count": 8,
   "id": "929b0f75",
   "metadata": {},
   "outputs": [],
   "source": [
    "lb = LabelBinarizer()\n",
    "labels = lb.fit_transform(y)"
   ]
  },
  {
   "cell_type": "code",
   "execution_count": 9,
   "id": "1fcab7dd",
   "metadata": {},
   "outputs": [
    {
     "data": {
      "text/plain": [
       "(10000, 218, 178, 3)"
      ]
     },
     "execution_count": 9,
     "metadata": {},
     "output_type": "execute_result"
    }
   ],
   "source": [
    "X.shape"
   ]
  },
  {
   "cell_type": "code",
   "execution_count": 10,
   "id": "c5bf523a",
   "metadata": {},
   "outputs": [],
   "source": [
    "X_train, X_test, y_train, y_test = train_test_split(X,labels,train_size=0.75)"
   ]
  },
  {
   "cell_type": "code",
   "execution_count": 11,
   "id": "9dcf052b",
   "metadata": {},
   "outputs": [
    {
     "name": "stdout",
     "output_type": "stream",
     "text": [
      "235/235 [==============================] - 13s 51ms/step - loss: 732.3673 - binary_accuracy: 0.8940\n",
      "79/79 [==============================] - 1s 6ms/step\n",
      "Epoch 1/10\n",
      "375/375 [==============================] - 18s 47ms/step - loss: 428.4198 - binary_accuracy: 0.9121\n",
      "Epoch 2/10\n",
      "375/375 [==============================] - 18s 48ms/step - loss: 258.9857 - binary_accuracy: 0.9283\n",
      "Epoch 3/10\n",
      "375/375 [==============================] - 18s 48ms/step - loss: 162.3001 - binary_accuracy: 0.9376\n",
      "Epoch 4/10\n",
      "375/375 [==============================] - 18s 48ms/step - loss: 94.2534 - binary_accuracy: 0.9424\n",
      "Epoch 5/10\n",
      "375/375 [==============================] - 18s 48ms/step - loss: 99.0855 - binary_accuracy: 0.9365\n",
      "Epoch 6/10\n",
      "375/375 [==============================] - 18s 48ms/step - loss: 52.1412 - binary_accuracy: 0.9399\n",
      "Epoch 7/10\n",
      "375/375 [==============================] - 18s 48ms/step - loss: 30.6183 - binary_accuracy: 0.9451\n",
      "Epoch 8/10\n",
      "375/375 [==============================] - 18s 48ms/step - loss: 14.9724 - binary_accuracy: 0.9543\n",
      "Epoch 9/10\n",
      "375/375 [==============================] - 18s 47ms/step - loss: 5.8180 - binary_accuracy: 0.9457\n",
      "Epoch 10/10\n",
      "375/375 [==============================] - 18s 48ms/step - loss: 0.1249 - binary_accuracy: 0.9429\n"
     ]
    },
    {
     "data": {
      "text/plain": [
       "<keras.callbacks.History at 0x291936bc0>"
      ]
     },
     "execution_count": 11,
     "metadata": {},
     "output_type": "execute_result"
    }
   ],
   "source": [
    "model = tf.keras.models.Sequential([\n",
    "    tf.keras.layers.Flatten(input_shape=(218, 178, 3)),\n",
    "    tf.keras.layers.Dense(128, activation='relu'),\n",
    "    tf.keras.layers.Dense(1, activation='sigmoid')\n",
    "])\n",
    "model.compile(loss='binary_crossentropy', optimizer='adam',metrics=['binary_accuracy'])\n",
    "model.fit(X_train, y_train)\n",
    "predictions = model.predict(X_test)\n",
    "model.fit(X_train,y_train,epochs=10,batch_size=20)"
   ]
  },
  {
   "cell_type": "markdown",
   "id": "c4dd7310",
   "metadata": {},
   "source": [
    "I took the architecture of the code from 'Chatgbt' and filled the values ​​in it."
   ]
  },
  {
   "cell_type": "code",
   "execution_count": 23,
   "id": "6e3898a4",
   "metadata": {},
   "outputs": [
    {
     "name": "stdout",
     "output_type": "stream",
     "text": [
      "250/250 [==============================] - 13s 53ms/step - loss: 0.2148 - binary_accuracy: 0.9137\n",
      "250/250 [==============================] - 13s 52ms/step - loss: 0.2266 - binary_accuracy: 0.9065\n",
      "250/250 [==============================] - 13s 52ms/step - loss: 0.2363 - binary_accuracy: 0.9086\n",
      "250/250 [==============================] - 13s 52ms/step - loss: 0.2550 - binary_accuracy: 0.9025\n",
      "250/250 [==============================] - 13s 52ms/step - loss: 0.2356 - binary_accuracy: 0.9010\n",
      "(-0.3186045573859848, 1.4857323633342423)\n",
      "0.5835639029741287\n"
     ]
    }
   ],
   "source": [
    "from sklearn.model_selection import KFold\n",
    "from scipy.stats import t\n",
    "\n",
    "kf = KFold(n_splits=5, shuffle=True)\n",
    "scores = []\n",
    "for train_index, val_index in kf.split(X):\n",
    "    X_train, X_val = X[train_index], X[val_index]\n",
    "    y_train, y_val = labels[train_index], labels[val_index]\n",
    "    model.fit(X_train, y_train)\n",
    "    score = model.evaluate(X_val, y_val, verbose=0)\n",
    "    scores.append(score)\n",
    "\n",
    "mean = np.mean(scores)\n",
    "std = np.std(scores)\n",
    "confidence_interval = t.interval(0.95, len(scores)-1, mean, std)\n",
    "print(confidence_interval)\n",
    "print(mean)\n"
   ]
  },
  {
   "cell_type": "markdown",
   "id": "70343426",
   "metadata": {},
   "source": [
    "Male"
   ]
  },
  {
   "cell_type": "code",
   "execution_count": 25,
   "id": "91cdb5e7",
   "metadata": {},
   "outputs": [],
   "source": [
    "X1=[]\n",
    "y1=[]\n",
    "for i in data:\n",
    "    X1.append(i['image'])\n",
    "    y1.append(i['attributes'][\"Male\"])\n",
    "y = np.array(y1)\n",
    "X = np.array(X1)\n",
    "lb = LabelBinarizer()\n",
    "labels = lb.fit_transform(y)"
   ]
  },
  {
   "cell_type": "code",
   "execution_count": 26,
   "id": "c9b04200",
   "metadata": {},
   "outputs": [],
   "source": [
    "X_train, X_test, y_train, y_test = train_test_split(X,labels,train_size=0.75)"
   ]
  },
  {
   "cell_type": "code",
   "execution_count": 27,
   "id": "26f71549",
   "metadata": {},
   "outputs": [
    {
     "name": "stdout",
     "output_type": "stream",
     "text": [
      "235/235 [==============================] - 14s 55ms/step - loss: 537.7635 - binary_accuracy: 0.6995\n",
      "79/79 [==============================] - 1s 7ms/step\n",
      "Epoch 1/10\n",
      "375/375 [==============================] - 19s 50ms/step - loss: 240.9418 - binary_accuracy: 0.7705\n",
      "Epoch 2/10\n",
      "375/375 [==============================] - 19s 50ms/step - loss: 135.9190 - binary_accuracy: 0.8080\n",
      "Epoch 3/10\n",
      "375/375 [==============================] - 20s 54ms/step - loss: 121.1207 - binary_accuracy: 0.8127\n",
      "Epoch 4/10\n",
      "375/375 [==============================] - 19s 50ms/step - loss: 63.0630 - binary_accuracy: 0.8488\n",
      "Epoch 5/10\n",
      "375/375 [==============================] - 18s 48ms/step - loss: 40.6903 - binary_accuracy: 0.8709\n",
      "Epoch 6/10\n",
      "375/375 [==============================] - 20s 54ms/step - loss: 41.1767 - binary_accuracy: 0.8633\n",
      "Epoch 7/10\n",
      "375/375 [==============================] - 20s 55ms/step - loss: 20.0969 - binary_accuracy: 0.8941\n",
      "Epoch 8/10\n",
      "375/375 [==============================] - 18s 49ms/step - loss: 19.8404 - binary_accuracy: 0.8879\n",
      "Epoch 9/10\n",
      "375/375 [==============================] - 18s 48ms/step - loss: 9.3665 - binary_accuracy: 0.7343\n",
      "Epoch 10/10\n",
      "375/375 [==============================] - 18s 49ms/step - loss: 0.3619 - binary_accuracy: 0.8971\n"
     ]
    },
    {
     "data": {
      "text/plain": [
       "<keras.callbacks.History at 0x2c77b9540>"
      ]
     },
     "execution_count": 27,
     "metadata": {},
     "output_type": "execute_result"
    }
   ],
   "source": [
    "model = tf.keras.models.Sequential([\n",
    "    tf.keras.layers.Flatten(input_shape=(218, 178, 3)),\n",
    "    tf.keras.layers.Dense(128, activation='relu'),\n",
    "    tf.keras.layers.Dense(1, activation='sigmoid')\n",
    "])\n",
    "model.compile(loss='binary_crossentropy', optimizer='adam',metrics=['binary_accuracy'])\n",
    "model.fit(X_train, y_train)\n",
    "predictions = model.predict(X_test)\n",
    "model.fit(X_train,y_train,epochs=10,batch_size=20)"
   ]
  },
  {
   "cell_type": "code",
   "execution_count": 28,
   "id": "7bfe21e3",
   "metadata": {},
   "outputs": [
    {
     "name": "stdout",
     "output_type": "stream",
     "text": [
      "250/250 [==============================] - 13s 51ms/step - loss: 0.3257 - binary_accuracy: 0.9074\n",
      "250/250 [==============================] - 14s 57ms/step - loss: 0.3045 - binary_accuracy: 0.9070\n",
      "250/250 [==============================] - 14s 55ms/step - loss: 0.3034 - binary_accuracy: 0.8995\n",
      "250/250 [==============================] - 14s 54ms/step - loss: 0.2898 - binary_accuracy: 0.9010\n",
      "250/250 [==============================] - 21s 83ms/step - loss: 0.2733 - binary_accuracy: 0.9087\n",
      "(-0.14091380365087625, 1.3594459725160801)\n",
      "0.6092660844326019\n"
     ]
    }
   ],
   "source": [
    "kf = KFold(n_splits=5, shuffle=True)\n",
    "scores = []\n",
    "for train_index, val_index in kf.split(X):\n",
    "    X_train, X_val = X[train_index], X[val_index]\n",
    "    y_train, y_val = labels[train_index], labels[val_index]\n",
    "    model.fit(X_train, y_train)\n",
    "    score = model.evaluate(X_val, y_val, verbose=0)\n",
    "    scores.append(score)\n",
    "\n",
    "mean = np.mean(scores)\n",
    "std = np.std(scores)\n",
    "confidence_interval = t.interval(0.95, len(scores)-1, mean, std)\n",
    "print(confidence_interval)\n",
    "print(mean)"
   ]
  },
  {
   "cell_type": "markdown",
   "id": "e00220ab",
   "metadata": {},
   "source": [
    "Bangs"
   ]
  },
  {
   "cell_type": "code",
   "execution_count": 29,
   "id": "aff5bfbf",
   "metadata": {},
   "outputs": [],
   "source": [
    "X1=[]\n",
    "y1=[]\n",
    "for i in data:\n",
    "    X1.append(i['image'])\n",
    "    y1.append(i['attributes'][\"Bangs\"])\n",
    "y = np.array(y1)\n",
    "X = np.array(X1)\n",
    "lb = LabelBinarizer()\n",
    "labels = lb.fit_transform(y)"
   ]
  },
  {
   "cell_type": "code",
   "execution_count": 30,
   "id": "bddc56e8",
   "metadata": {},
   "outputs": [],
   "source": [
    "X_train, X_test, y_train, y_test = train_test_split(X,labels,train_size=0.75)"
   ]
  },
  {
   "cell_type": "code",
   "execution_count": 31,
   "id": "b6a97dec",
   "metadata": {},
   "outputs": [
    {
     "name": "stdout",
     "output_type": "stream",
     "text": [
      "235/235 [==============================] - 13s 54ms/step - loss: 873.9756 - binary_accuracy: 0.8144\n",
      "79/79 [==============================] - 1s 6ms/step\n",
      "Epoch 1/10\n",
      "375/375 [==============================] - 18s 48ms/step - loss: 361.3884 - binary_accuracy: 0.8533\n",
      "Epoch 2/10\n",
      "375/375 [==============================] - 19s 52ms/step - loss: 256.5396 - binary_accuracy: 0.8603\n",
      "Epoch 3/10\n",
      "375/375 [==============================] - 19s 49ms/step - loss: 196.7308 - binary_accuracy: 0.8591\n",
      "Epoch 4/10\n",
      "375/375 [==============================] - 18s 48ms/step - loss: 144.8810 - binary_accuracy: 0.8717\n",
      "Epoch 5/10\n",
      "375/375 [==============================] - 18s 47ms/step - loss: 96.1923 - binary_accuracy: 0.8767\n",
      "Epoch 6/10\n",
      "375/375 [==============================] - 18s 47ms/step - loss: 58.1123 - binary_accuracy: 0.8813\n",
      "Epoch 7/10\n",
      "375/375 [==============================] - 18s 47ms/step - loss: 22.2869 - binary_accuracy: 0.8959\n",
      "Epoch 8/10\n",
      "375/375 [==============================] - 18s 49ms/step - loss: 17.9580 - binary_accuracy: 0.8937\n",
      "Epoch 9/10\n",
      "375/375 [==============================] - 18s 48ms/step - loss: 12.8988 - binary_accuracy: 0.8961\n",
      "Epoch 10/10\n",
      "375/375 [==============================] - 18s 47ms/step - loss: 8.6623 - binary_accuracy: 0.8960\n"
     ]
    },
    {
     "data": {
      "text/plain": [
       "<keras.callbacks.History at 0x2914e6380>"
      ]
     },
     "execution_count": 31,
     "metadata": {},
     "output_type": "execute_result"
    }
   ],
   "source": [
    "model = tf.keras.models.Sequential([\n",
    "    tf.keras.layers.Flatten(input_shape=(218, 178, 3)),\n",
    "    tf.keras.layers.Dense(128, activation='relu'),\n",
    "    tf.keras.layers.Dense(1, activation='sigmoid')\n",
    "])\n",
    "model.compile(loss='binary_crossentropy', optimizer='adam',metrics=['binary_accuracy'])\n",
    "model.fit(X_train, y_train)\n",
    "predictions = model.predict(X_test)\n",
    "model.fit(X_train,y_train,epochs=10,batch_size=20)"
   ]
  },
  {
   "cell_type": "markdown",
   "id": "d6ff0911",
   "metadata": {},
   "source": [
    "5-fold"
   ]
  },
  {
   "cell_type": "code",
   "execution_count": 32,
   "id": "85aafab0",
   "metadata": {},
   "outputs": [
    {
     "name": "stdout",
     "output_type": "stream",
     "text": [
      "250/250 [==============================] - 14s 57ms/step - loss: 4.8969 - binary_accuracy: 0.9059\n",
      "250/250 [==============================] - 13s 51ms/step - loss: 0.4221 - binary_accuracy: 0.8597\n",
      "250/250 [==============================] - 13s 50ms/step - loss: 0.2281 - binary_accuracy: 0.8820\n",
      "250/250 [==============================] - 13s 51ms/step - loss: 0.2098 - binary_accuracy: 0.9280\n",
      "250/250 [==============================] - 13s 52ms/step - loss: 0.2169 - binary_accuracy: 0.9241\n",
      "(-1.0915620893234461, 2.695984423160002)\n",
      "0.8022111669182778\n"
     ]
    }
   ],
   "source": [
    "kf = KFold(n_splits=5, shuffle=True)\n",
    "scores = []\n",
    "for train_index, val_index in kf.split(X):\n",
    "    X_train, X_val = X[train_index], X[val_index]\n",
    "    y_train, y_val = labels[train_index], labels[val_index]\n",
    "    model.fit(X_train, y_train)\n",
    "    score = model.evaluate(X_val, y_val, verbose=0)\n",
    "    scores.append(score)\n",
    "\n",
    "mean = np.mean(scores)\n",
    "std = np.std(scores)\n",
    "confidence_interval = t.interval(0.95, len(scores)-1, mean, std)\n",
    "print(confidence_interval)\n",
    "print(mean)"
   ]
  },
  {
   "cell_type": "markdown",
   "id": "0f097405",
   "metadata": {},
   "source": [
    "The most successful model appears to be Bangs. Next comes males and glasses on low achievement.\n",
    "The reason why this is so may be that the model recognizes more specific objects and attributes better, or it may be related to the models I have written.\n"
   ]
  },
  {
   "cell_type": "markdown",
   "id": "6b5024ab",
   "metadata": {},
   "source": [
    "When I set the epoch values ​​to 500, the success rate of all three was approaching 1.0. This is something we actually want, but I kept the epoch at 10 because I wanted to see the difference between them at a low epoch value.\n"
   ]
  },
  {
   "cell_type": "markdown",
   "id": "5896ee2e-06ab-40ba-b2bc-3f213b7410d4",
   "metadata": {},
   "source": [
    "## Q2\n",
    "\n",
    "For this question use the [Hyperspectral Image of Kennedy Space Center](https://www.ehu.eus/ccwintco/index.php/Hyperspectral_Remote_Sensing_Scenes#Kennedy_Space_Center_.28KSC.29).\n",
    "\n",
    "1. Ingest the image data directly from the web. (No local files!)\n",
    "2. Ingest the ground truth data directly from the web. (No local files!)\n",
    "4. Build a convolutional neural network (preferably using [this](https://keras.io/api/layers/convolution_layers/) and/or [this](https://keras.io/api/layers/recurrent_layers/conv_lstm2d/)) model.\n",
    "5. Test the accuracy of the model using a 5-fold cross-validation. (I want a %95 confidence interval on the returned result using a t-test as I did in one of my lectures.)"
   ]
  },
  {
   "cell_type": "code",
   "execution_count": 8,
   "id": "300975f8",
   "metadata": {},
   "outputs": [],
   "source": [
    "file_image = \"http://www.ehu.es/ccwintco/uploads/2/26/KSC.mat\"\n",
    "file_gt = 'http://www.ehu.es/ccwintco/uploads/a/a6/KSC_gt.mat'"
   ]
  },
  {
   "cell_type": "code",
   "execution_count": 9,
   "id": "9edf48b8",
   "metadata": {},
   "outputs": [],
   "source": [
    "response = requests.get(file_image)\n",
    "with open(\"temp.mat\", \"wb\") as f:\n",
    "    f.write(response.content)\n",
    "mat_file_image = scipy.io.loadmat(\"temp.mat\")"
   ]
  },
  {
   "cell_type": "code",
   "execution_count": 24,
   "id": "75deeb04",
   "metadata": {},
   "outputs": [
    {
     "data": {
      "text/plain": [
       "{'__header__': b'MATLAB 5.0 MAT-file, Platform: GLNXA64, Created on: Thu Feb 20 14:58:33 2014',\n",
       " '__version__': '1.0',\n",
       " '__globals__': [],\n",
       " 'KSC': array([[[ 11,  26,  19, ...,  63,  64,  58],\n",
       "         [  4,  22,  10, ...,  38,  44,  43],\n",
       "         [  6,  16,   9, ...,  48,  47,  49],\n",
       "         ...,\n",
       "         [ 28,  44,  32, ...,  38,  56,  46],\n",
       "         [ 28,  37,  31, ...,  39,  42,  31],\n",
       "         [ 17,  37,  27, ...,  35,  39,  34]],\n",
       " \n",
       "        [[  7,  24,  16, ...,  63,  63,  55],\n",
       "         [  4,  23,  14, ...,  56,  58,  49],\n",
       "         [  9,  20,  12, ...,  48,  50,  46],\n",
       "         ...,\n",
       "         [ 24,  37,  29, ...,  28,  39,  37],\n",
       "         [ 21,  40,  25, ...,  39,  45,  37],\n",
       "         [ 17,  38,  24, ...,  42,  36,  40]],\n",
       " \n",
       "        [[ 11,  22,  17, ...,  65,  63,  58],\n",
       "         [ 15,  34,  19, ...,  66,  77,  64],\n",
       "         [  4,  20,  12, ...,  44,  49,  42],\n",
       "         ...,\n",
       "         [ 19,  40,  27, ...,  35,  39,  34],\n",
       "         [ 23,  36,  24, ...,  42,  36,  28],\n",
       "         [ 26,  40,  32, ...,  24,  30,  31]],\n",
       " \n",
       "        ...,\n",
       " \n",
       "        [[ 43,  65,  59, ..., 109, 117, 107],\n",
       "         [ 45,  67,  61, ..., 116, 117, 113],\n",
       "         [ 14,  36,  28, ...,  67,  66,  57],\n",
       "         ...,\n",
       "         [ 22,  40,  28, ...,  33,  34,  25],\n",
       "         [ 24,  44,  33, ...,  36,  40,  25],\n",
       "         [ 24,  42,  29, ...,  22,  25,  25]],\n",
       " \n",
       "        [[ 39,  60,  50, ..., 105, 111, 100],\n",
       "         [ 44,  71,  62, ..., 112, 111, 100],\n",
       "         [ 20,  38,  30, ...,  60,  72,  60],\n",
       "         ...,\n",
       "         [ 16,  38,  27, ...,  33,  31,  31],\n",
       "         [ 22,  36,  26, ...,  25,  34,  28],\n",
       "         [ 22,  39,  29, ...,  22,  25,  15]],\n",
       " \n",
       "        [[ 31,  60,  51, ...,  89,  88,  84],\n",
       "         [ 16,  36,  28, ...,  78,  75,  64],\n",
       "         [  7,  28,  18, ...,  41,  46,  48],\n",
       "         ...,\n",
       "         [ 18,  39,  29, ...,  25,  31,  25],\n",
       "         [ 22,  38,  27, ...,  33,  40,  28],\n",
       "         [ 16,  40,  27, ...,  33,  40,  31]]], dtype=uint16)}"
      ]
     },
     "execution_count": 24,
     "metadata": {},
     "output_type": "execute_result"
    }
   ],
   "source": [
    "mat_file_image"
   ]
  },
  {
   "cell_type": "code",
   "execution_count": 11,
   "id": "db295a59",
   "metadata": {},
   "outputs": [],
   "source": [
    "response = requests.get(file_gt)\n",
    "with open(\"temp.mat\", \"wb\") as f:\n",
    "    f.write(response.content)\n",
    "mat_file_gt = scipy.io.loadmat(\"temp.mat\")"
   ]
  },
  {
   "cell_type": "code",
   "execution_count": 14,
   "id": "31968513",
   "metadata": {},
   "outputs": [
    {
     "data": {
      "text/plain": [
       "{'__header__': b'MATLAB 5.0 MAT-file, Platform: GLNXA64, Created on: Thu Feb 20 14:59:27 2014',\n",
       " '__version__': '1.0',\n",
       " '__globals__': [],\n",
       " 'KSC_gt': array([[0, 0, 0, ..., 0, 0, 0],\n",
       "        [0, 0, 0, ..., 0, 0, 0],\n",
       "        [0, 0, 0, ..., 0, 0, 0],\n",
       "        ...,\n",
       "        [0, 0, 0, ..., 0, 0, 0],\n",
       "        [0, 0, 0, ..., 0, 0, 0],\n",
       "        [0, 0, 0, ..., 0, 0, 0]], dtype=uint8)}"
      ]
     },
     "execution_count": 14,
     "metadata": {},
     "output_type": "execute_result"
    }
   ],
   "source": [
    "mat_file_gt"
   ]
  },
  {
   "cell_type": "code",
   "execution_count": 15,
   "id": "e6e6c5dc",
   "metadata": {},
   "outputs": [],
   "source": [
    "y = np.array(mat_file_gt)\n",
    "X = np.array(mat_file_image)"
   ]
  },
  {
   "cell_type": "code",
   "execution_count": 26,
   "id": "9f2f35ff",
   "metadata": {},
   "outputs": [],
   "source": [
    "from keras.layers import ConvLSTM2D"
   ]
  },
  {
   "cell_type": "code",
   "execution_count": 30,
   "id": "5073abaa",
   "metadata": {},
   "outputs": [],
   "source": [
    "def load_data(data,T):\n",
    "    N = data.shape[0]\n",
    "    raw = data.to_numpy().reshape(N,1,)\n",
    "    Y_train = raw[1:N-T]\n",
    "    X_train = raw[:N-T-1]\n",
    "    Y_test = raw[N-T:]\n",
    "    X_test = raw[N-T-1:N-1]\n",
    "    return X_train,X_test,Y_train,Y_test"
   ]
  },
  {
   "cell_type": "code",
   "execution_count": 31,
   "id": "345cc49f",
   "metadata": {},
   "outputs": [],
   "source": [
    "model = Sequential()\n",
    "model.add(LSTM(24,input_shape = (1,1),recurrent_dropout = 0.2))\n",
    "model.add(Dense(128, activation='relu'))\n",
    "model.add(Dropout(0.3))\n",
    "model.add(Dense(1, activation='linear'))\n",
    "model.compile(loss='mse', optimizer='adam', metrics=['mse'])"
   ]
  },
  {
   "cell_type": "markdown",
   "id": "b1299167-dc7b-4a54-ae1b-5c3bd5c40c73",
   "metadata": {},
   "source": [
    "## Q3\n",
    "\n",
    "For this question we are going to use the time series of [Wheat Futures](https://finance.yahoo.com/quote/ZW=F/) from Yahoo Finance.\n",
    "\n",
    "1. Ingest the data using [yfinance](https://pypi.org/project/yfinance/) Start from Jan 1, 2010 until Dec 31, 2021.\n",
    "2. Construct [a RNN and/or a LSTM](https://keras.io/api/layers/recurrent_layers/) model on the data.\n",
    "3. Test your model on the wheat futures data from Jan 1, 2022 to today using a 5-fold cross-validation. Did your model work? Explain."
   ]
  },
  {
   "cell_type": "code",
   "execution_count": 33,
   "id": "8c58e5c7-460a-4650-b08b-64b8838f49ac",
   "metadata": {},
   "outputs": [],
   "source": [
    "import yfinance as yf"
   ]
  },
  {
   "cell_type": "code",
   "execution_count": 34,
   "id": "de51af99",
   "metadata": {},
   "outputs": [
    {
     "data": {
      "text/html": [
       "<div>\n",
       "<style scoped>\n",
       "    .dataframe tbody tr th:only-of-type {\n",
       "        vertical-align: middle;\n",
       "    }\n",
       "\n",
       "    .dataframe tbody tr th {\n",
       "        vertical-align: top;\n",
       "    }\n",
       "\n",
       "    .dataframe thead th {\n",
       "        text-align: right;\n",
       "    }\n",
       "</style>\n",
       "<table border=\"1\" class=\"dataframe\">\n",
       "  <thead>\n",
       "    <tr style=\"text-align: right;\">\n",
       "      <th></th>\n",
       "      <th>Open</th>\n",
       "      <th>High</th>\n",
       "      <th>Low</th>\n",
       "      <th>Close</th>\n",
       "      <th>Volume</th>\n",
       "      <th>Dividends</th>\n",
       "      <th>Stock Splits</th>\n",
       "    </tr>\n",
       "    <tr>\n",
       "      <th>Date</th>\n",
       "      <th></th>\n",
       "      <th></th>\n",
       "      <th></th>\n",
       "      <th></th>\n",
       "      <th></th>\n",
       "      <th></th>\n",
       "      <th></th>\n",
       "    </tr>\n",
       "  </thead>\n",
       "  <tbody>\n",
       "    <tr>\n",
       "      <th>2010-01-04 00:00:00-05:00</th>\n",
       "      <td>544.75</td>\n",
       "      <td>561.25</td>\n",
       "      <td>544.00</td>\n",
       "      <td>557.75</td>\n",
       "      <td>41278</td>\n",
       "      <td>0</td>\n",
       "      <td>0</td>\n",
       "    </tr>\n",
       "    <tr>\n",
       "      <th>2010-01-05 00:00:00-05:00</th>\n",
       "      <td>556.75</td>\n",
       "      <td>561.50</td>\n",
       "      <td>552.00</td>\n",
       "      <td>553.00</td>\n",
       "      <td>36720</td>\n",
       "      <td>0</td>\n",
       "      <td>0</td>\n",
       "    </tr>\n",
       "    <tr>\n",
       "      <th>2010-01-06 00:00:00-05:00</th>\n",
       "      <td>552.00</td>\n",
       "      <td>567.75</td>\n",
       "      <td>551.00</td>\n",
       "      <td>567.25</td>\n",
       "      <td>38503</td>\n",
       "      <td>0</td>\n",
       "      <td>0</td>\n",
       "    </tr>\n",
       "    <tr>\n",
       "      <th>2010-01-07 00:00:00-05:00</th>\n",
       "      <td>566.50</td>\n",
       "      <td>568.00</td>\n",
       "      <td>556.00</td>\n",
       "      <td>557.75</td>\n",
       "      <td>33873</td>\n",
       "      <td>0</td>\n",
       "      <td>0</td>\n",
       "    </tr>\n",
       "    <tr>\n",
       "      <th>2010-01-08 00:00:00-05:00</th>\n",
       "      <td>557.50</td>\n",
       "      <td>570.00</td>\n",
       "      <td>545.25</td>\n",
       "      <td>568.50</td>\n",
       "      <td>33873</td>\n",
       "      <td>0</td>\n",
       "      <td>0</td>\n",
       "    </tr>\n",
       "    <tr>\n",
       "      <th>...</th>\n",
       "      <td>...</td>\n",
       "      <td>...</td>\n",
       "      <td>...</td>\n",
       "      <td>...</td>\n",
       "      <td>...</td>\n",
       "      <td>...</td>\n",
       "      <td>...</td>\n",
       "    </tr>\n",
       "    <tr>\n",
       "      <th>2021-12-23 00:00:00-05:00</th>\n",
       "      <td>812.50</td>\n",
       "      <td>820.50</td>\n",
       "      <td>808.25</td>\n",
       "      <td>814.75</td>\n",
       "      <td>36615</td>\n",
       "      <td>0</td>\n",
       "      <td>0</td>\n",
       "    </tr>\n",
       "    <tr>\n",
       "      <th>2021-12-27 00:00:00-05:00</th>\n",
       "      <td>817.50</td>\n",
       "      <td>824.00</td>\n",
       "      <td>802.50</td>\n",
       "      <td>804.00</td>\n",
       "      <td>30210</td>\n",
       "      <td>0</td>\n",
       "      <td>0</td>\n",
       "    </tr>\n",
       "    <tr>\n",
       "      <th>2021-12-28 00:00:00-05:00</th>\n",
       "      <td>805.75</td>\n",
       "      <td>808.00</td>\n",
       "      <td>781.75</td>\n",
       "      <td>783.50</td>\n",
       "      <td>41877</td>\n",
       "      <td>0</td>\n",
       "      <td>0</td>\n",
       "    </tr>\n",
       "    <tr>\n",
       "      <th>2021-12-29 00:00:00-05:00</th>\n",
       "      <td>785.25</td>\n",
       "      <td>793.00</td>\n",
       "      <td>774.00</td>\n",
       "      <td>787.75</td>\n",
       "      <td>40941</td>\n",
       "      <td>0</td>\n",
       "      <td>0</td>\n",
       "    </tr>\n",
       "    <tr>\n",
       "      <th>2021-12-30 00:00:00-05:00</th>\n",
       "      <td>789.50</td>\n",
       "      <td>791.75</td>\n",
       "      <td>776.00</td>\n",
       "      <td>779.75</td>\n",
       "      <td>29563</td>\n",
       "      <td>0</td>\n",
       "      <td>0</td>\n",
       "    </tr>\n",
       "  </tbody>\n",
       "</table>\n",
       "<p>3018 rows × 7 columns</p>\n",
       "</div>"
      ],
      "text/plain": [
       "                             Open    High     Low   Close  Volume  Dividends  \\\n",
       "Date                                                                           \n",
       "2010-01-04 00:00:00-05:00  544.75  561.25  544.00  557.75   41278          0   \n",
       "2010-01-05 00:00:00-05:00  556.75  561.50  552.00  553.00   36720          0   \n",
       "2010-01-06 00:00:00-05:00  552.00  567.75  551.00  567.25   38503          0   \n",
       "2010-01-07 00:00:00-05:00  566.50  568.00  556.00  557.75   33873          0   \n",
       "2010-01-08 00:00:00-05:00  557.50  570.00  545.25  568.50   33873          0   \n",
       "...                           ...     ...     ...     ...     ...        ...   \n",
       "2021-12-23 00:00:00-05:00  812.50  820.50  808.25  814.75   36615          0   \n",
       "2021-12-27 00:00:00-05:00  817.50  824.00  802.50  804.00   30210          0   \n",
       "2021-12-28 00:00:00-05:00  805.75  808.00  781.75  783.50   41877          0   \n",
       "2021-12-29 00:00:00-05:00  785.25  793.00  774.00  787.75   40941          0   \n",
       "2021-12-30 00:00:00-05:00  789.50  791.75  776.00  779.75   29563          0   \n",
       "\n",
       "                           Stock Splits  \n",
       "Date                                     \n",
       "2010-01-04 00:00:00-05:00             0  \n",
       "2010-01-05 00:00:00-05:00             0  \n",
       "2010-01-06 00:00:00-05:00             0  \n",
       "2010-01-07 00:00:00-05:00             0  \n",
       "2010-01-08 00:00:00-05:00             0  \n",
       "...                                 ...  \n",
       "2021-12-23 00:00:00-05:00             0  \n",
       "2021-12-27 00:00:00-05:00             0  \n",
       "2021-12-28 00:00:00-05:00             0  \n",
       "2021-12-29 00:00:00-05:00             0  \n",
       "2021-12-30 00:00:00-05:00             0  \n",
       "\n",
       "[3018 rows x 7 columns]"
      ]
     },
     "execution_count": 34,
     "metadata": {},
     "output_type": "execute_result"
    }
   ],
   "source": [
    "data = yf.Ticker('ZW=F')\n",
    "hist = data.history(period=\"max\",start=\"2010-01-01\", end=\"2021-12-31\")\n",
    "hist"
   ]
  },
  {
   "cell_type": "code",
   "execution_count": 35,
   "id": "6b6d06b7",
   "metadata": {},
   "outputs": [
    {
     "data": {
      "text/plain": [
       "(3018, 7)"
      ]
     },
     "execution_count": 35,
     "metadata": {},
     "output_type": "execute_result"
    }
   ],
   "source": [
    "hist.shape"
   ]
  },
  {
   "cell_type": "code",
   "execution_count": 36,
   "id": "b32f1017",
   "metadata": {},
   "outputs": [],
   "source": [
    "def load_data(data,T):\n",
    "    \n",
    "    N = data.shape[0]\n",
    "    raw = data.to_numpy().reshape(N,1,)\n",
    "    Y_train = raw[1:N-T]\n",
    "    X_train = raw[:N-T-1]\n",
    "    Y_test = raw[N-T:]\n",
    "    X_test = raw[N-T-1:N-1]\n",
    "    return X_train,X_test,Y_train,Y_test\n",
    "X_train,X_test,Y_train,Y_test = load_data(hist['Open'],346)"
   ]
  },
  {
   "cell_type": "code",
   "execution_count": 37,
   "id": "a2b49ea9",
   "metadata": {},
   "outputs": [],
   "source": [
    "model = Sequential()\n",
    "model.add(SimpleRNN(128, input_shape = (1,1), activation = 'relu'))\n",
    "model.add(Dropout(0.5))\n",
    "model.add(Dense(1, activation='linear'))\n",
    "early = EarlyStopping(monitor = \"val_loss\", mode = \"min\", patience = 4)\n",
    "callbacks_list = [early]\n",
    "model.compile(loss = 'mape', optimizer = 'adam', metrics = ['mse'])"
   ]
  },
  {
   "cell_type": "code",
   "execution_count": 38,
   "id": "91c86616",
   "metadata": {},
   "outputs": [
    {
     "name": "stdout",
     "output_type": "stream",
     "text": [
      "Epoch 1/10\n",
      "535/535 [==============================] - 1s 854us/step - loss: 19.5315 - mse: 23537.5449 - val_loss: 2.7821 - val_mse: 477.5224\n",
      "Epoch 2/10\n",
      "535/535 [==============================] - 0s 616us/step - loss: 13.0227 - mse: 8855.0752 - val_loss: 4.0021 - val_mse: 874.6245\n",
      "Epoch 3/10\n",
      "535/535 [==============================] - 0s 610us/step - loss: 12.6698 - mse: 8446.5010 - val_loss: 2.2217 - val_mse: 333.6412\n",
      "Epoch 4/10\n",
      "535/535 [==============================] - 0s 608us/step - loss: 12.5688 - mse: 8130.7393 - val_loss: 5.6530 - val_mse: 1596.9800\n",
      "Epoch 5/10\n",
      "535/535 [==============================] - 0s 613us/step - loss: 12.6885 - mse: 8536.5254 - val_loss: 3.0826 - val_mse: 565.4504\n",
      "Epoch 6/10\n",
      "535/535 [==============================] - 0s 612us/step - loss: 12.4530 - mse: 8211.8252 - val_loss: 1.6673 - val_mse: 202.5418\n",
      "Epoch 7/10\n",
      "535/535 [==============================] - 0s 611us/step - loss: 12.7374 - mse: 8703.2344 - val_loss: 1.5274 - val_mse: 166.7334\n",
      "Epoch 8/10\n",
      "535/535 [==============================] - 0s 609us/step - loss: 12.5303 - mse: 8300.8789 - val_loss: 3.3587 - val_mse: 652.1529\n",
      "Epoch 9/10\n",
      "535/535 [==============================] - 0s 611us/step - loss: 12.2422 - mse: 7941.7446 - val_loss: 6.0984 - val_mse: 1835.2485\n",
      "Epoch 10/10\n",
      "535/535 [==============================] - 0s 607us/step - loss: 12.7976 - mse: 8657.8037 - val_loss: 6.4520 - val_mse: 2036.4276\n"
     ]
    },
    {
     "data": {
      "text/plain": [
       "<keras.callbacks.History at 0x293a89330>"
      ]
     },
     "execution_count": 38,
     "metadata": {},
     "output_type": "execute_result"
    }
   ],
   "source": [
    "model.fit(X_train,Y_train,epochs=10,batch_size=5,verbose=1,validation_data=(X_test,Y_test))"
   ]
  },
  {
   "cell_type": "code",
   "execution_count": 39,
   "id": "4856f507",
   "metadata": {},
   "outputs": [
    {
     "name": "stdout",
     "output_type": "stream",
     "text": [
      "11/11 [==============================] - 0s 500us/step\n"
     ]
    },
    {
     "data": {
      "text/html": [
       "<div>\n",
       "<style scoped>\n",
       "    .dataframe tbody tr th:only-of-type {\n",
       "        vertical-align: middle;\n",
       "    }\n",
       "\n",
       "    .dataframe tbody tr th {\n",
       "        vertical-align: top;\n",
       "    }\n",
       "\n",
       "    .dataframe thead th {\n",
       "        text-align: right;\n",
       "    }\n",
       "</style>\n",
       "<table border=\"1\" class=\"dataframe\">\n",
       "  <thead>\n",
       "    <tr style=\"text-align: right;\">\n",
       "      <th></th>\n",
       "      <th>X_test</th>\n",
       "      <th>Y_test</th>\n",
       "      <th>Y_pred</th>\n",
       "    </tr>\n",
       "  </thead>\n",
       "  <tbody>\n",
       "    <tr>\n",
       "      <th>0</th>\n",
       "      <td>500.50</td>\n",
       "      <td>516.25</td>\n",
       "      <td>469.185181</td>\n",
       "    </tr>\n",
       "    <tr>\n",
       "      <th>1</th>\n",
       "      <td>516.25</td>\n",
       "      <td>507.25</td>\n",
       "      <td>483.892487</td>\n",
       "    </tr>\n",
       "    <tr>\n",
       "      <th>2</th>\n",
       "      <td>507.25</td>\n",
       "      <td>511.75</td>\n",
       "      <td>475.488312</td>\n",
       "    </tr>\n",
       "    <tr>\n",
       "      <th>3</th>\n",
       "      <td>511.75</td>\n",
       "      <td>520.00</td>\n",
       "      <td>479.690399</td>\n",
       "    </tr>\n",
       "    <tr>\n",
       "      <th>4</th>\n",
       "      <td>520.00</td>\n",
       "      <td>527.75</td>\n",
       "      <td>487.394196</td>\n",
       "    </tr>\n",
       "    <tr>\n",
       "      <th>...</th>\n",
       "      <td>...</td>\n",
       "      <td>...</td>\n",
       "      <td>...</td>\n",
       "    </tr>\n",
       "    <tr>\n",
       "      <th>341</th>\n",
       "      <td>796.75</td>\n",
       "      <td>812.50</td>\n",
       "      <td>745.822571</td>\n",
       "    </tr>\n",
       "    <tr>\n",
       "      <th>342</th>\n",
       "      <td>812.50</td>\n",
       "      <td>817.50</td>\n",
       "      <td>760.529846</td>\n",
       "    </tr>\n",
       "    <tr>\n",
       "      <th>343</th>\n",
       "      <td>817.50</td>\n",
       "      <td>805.75</td>\n",
       "      <td>765.198853</td>\n",
       "    </tr>\n",
       "    <tr>\n",
       "      <th>344</th>\n",
       "      <td>805.75</td>\n",
       "      <td>785.25</td>\n",
       "      <td>754.226685</td>\n",
       "    </tr>\n",
       "    <tr>\n",
       "      <th>345</th>\n",
       "      <td>785.25</td>\n",
       "      <td>789.50</td>\n",
       "      <td>735.083862</td>\n",
       "    </tr>\n",
       "  </tbody>\n",
       "</table>\n",
       "<p>346 rows × 3 columns</p>\n",
       "</div>"
      ],
      "text/plain": [
       "     X_test  Y_test      Y_pred\n",
       "0    500.50  516.25  469.185181\n",
       "1    516.25  507.25  483.892487\n",
       "2    507.25  511.75  475.488312\n",
       "3    511.75  520.00  479.690399\n",
       "4    520.00  527.75  487.394196\n",
       "..      ...     ...         ...\n",
       "341  796.75  812.50  745.822571\n",
       "342  812.50  817.50  760.529846\n",
       "343  817.50  805.75  765.198853\n",
       "344  805.75  785.25  754.226685\n",
       "345  785.25  789.50  735.083862\n",
       "\n",
       "[346 rows x 3 columns]"
      ]
     },
     "execution_count": 39,
     "metadata": {},
     "output_type": "execute_result"
    }
   ],
   "source": [
    "Y_pred = model.predict(X_test).reshape(X_test.shape[0])\n",
    "res = pd.DataFrame({'X_test': X_test.reshape(X_test.shape[0]), \n",
    "                    'Y_test': Y_test.reshape(Y_test.shape[0]), \n",
    "                    'Y_pred': Y_pred.reshape(Y_pred.shape[0])})\n",
    "res"
   ]
  },
  {
   "cell_type": "code",
   "execution_count": 40,
   "id": "be3d049c",
   "metadata": {},
   "outputs": [
    {
     "data": {
      "text/plain": [
       "<AxesSubplot: >"
      ]
     },
     "execution_count": 40,
     "metadata": {},
     "output_type": "execute_result"
    },
    {
     "data": {
      "image/png": "[encoded data removed]",
      "text/plain": [
       "<Figure size 640x480 with 1 Axes>"
      ]
     },
     "metadata": {},
     "output_type": "display_data"
    }
   ],
   "source": [
    "res.plot()"
   ]
  },
  {
   "cell_type": "code",
   "execution_count": 41,
   "id": "0cf8f7a4",
   "metadata": {},
   "outputs": [],
   "source": [
    "data = yf.Ticker('ZW=F')\n",
    "hist = data.history(period=\"max\",start=\"2022-01-01\", end=\"2022-12-15\")\n"
   ]
  },
  {
   "cell_type": "code",
   "execution_count": 42,
   "id": "586ac5aa",
   "metadata": {},
   "outputs": [],
   "source": [
    "def load_data(data,T):\n",
    "    \n",
    "    N = data.shape[0]\n",
    "    raw = data.to_numpy().reshape(N,1,)\n",
    "    Y_train = raw[1:N-T]\n",
    "    X_train = raw[:N-T-1]\n",
    "    Y_test = raw[N-T:]\n",
    "    X_test = raw[N-T-1:N-1]\n",
    "    return X_train,X_test,Y_train,Y_test\n",
    "X_train,X_test,Y_train,Y_test = load_data(hist['Open'],346)"
   ]
  },
  {
   "cell_type": "code",
   "execution_count": 43,
   "id": "d09e2cdb",
   "metadata": {},
   "outputs": [],
   "source": [
    "model = Sequential()\n",
    "model.add(SimpleRNN(128, input_shape = (1,1), activation = 'relu'))\n",
    "model.add(Dropout(0.5))\n",
    "model.add(Dense(1, activation='linear'))\n",
    "early = EarlyStopping(monitor = \"val_loss\", mode = \"min\", patience = 4)\n",
    "callbacks_list = [early]\n",
    "model.compile(loss = 'mape', optimizer = 'adam', metrics = ['mse'])"
   ]
  },
  {
   "cell_type": "code",
   "execution_count": 44,
   "id": "a7581f27",
   "metadata": {},
   "outputs": [
    {
     "name": "stdout",
     "output_type": "stream",
     "text": [
      "Epoch 1/10\n",
      "27/27 [==============================] - 1s 6ms/step - loss: 78.5546 - mse: 635673.3125 - val_loss: 61.1147 - val_mse: 251781.0000\n",
      "Epoch 2/10\n",
      "27/27 [==============================] - 0s 2ms/step - loss: 45.5640 - mse: 231016.6719 - val_loss: 24.4272 - val_mse: 40541.0312\n",
      "Epoch 3/10\n",
      "27/27 [==============================] - 0s 2ms/step - loss: 15.7166 - mse: 42521.4922 - val_loss: 1.7968 - val_mse: 351.0824\n",
      "Epoch 4/10\n",
      "27/27 [==============================] - 0s 1ms/step - loss: 14.8730 - mse: 35366.1016 - val_loss: 1.9161 - val_mse: 415.7058\n",
      "Epoch 5/10\n",
      "27/27 [==============================] - 0s 1ms/step - loss: 15.7936 - mse: 38685.0117 - val_loss: 1.8407 - val_mse: 382.2823\n",
      "Epoch 6/10\n",
      "27/27 [==============================] - 0s 1ms/step - loss: 14.5173 - mse: 34355.4805 - val_loss: 6.7020 - val_mse: 3383.6858\n",
      "Epoch 7/10\n",
      "27/27 [==============================] - 0s 1ms/step - loss: 16.4690 - mse: 44451.8516 - val_loss: 2.7937 - val_mse: 810.2117\n",
      "Epoch 8/10\n",
      "27/27 [==============================] - 0s 1ms/step - loss: 13.1343 - mse: 28531.3242 - val_loss: 4.2764 - val_mse: 1569.2917\n",
      "Epoch 9/10\n",
      "27/27 [==============================] - 0s 1ms/step - loss: 14.1311 - mse: 30587.0605 - val_loss: 2.9598 - val_mse: 883.8079\n",
      "Epoch 10/10\n",
      "27/27 [==============================] - 0s 1ms/step - loss: 14.8747 - mse: 33899.6953 - val_loss: 7.1627 - val_mse: 3814.2102\n"
     ]
    },
    {
     "data": {
      "text/plain": [
       "<keras.callbacks.History at 0x2936dc4f0>"
      ]
     },
     "execution_count": 44,
     "metadata": {},
     "output_type": "execute_result"
    }
   ],
   "source": [
    "model.fit(X_train,Y_train,epochs=10,batch_size=5,verbose=1,validation_data=(X_test,Y_test))"
   ]
  },
  {
   "cell_type": "code",
   "execution_count": 45,
   "id": "f8fb1d23",
   "metadata": {},
   "outputs": [
    {
     "name": "stdout",
     "output_type": "stream",
     "text": [
      "4/4 [==============================] - 0s 719us/step\n"
     ]
    },
    {
     "data": {
      "text/html": [
       "<div>\n",
       "<style scoped>\n",
       "    .dataframe tbody tr th:only-of-type {\n",
       "        vertical-align: middle;\n",
       "    }\n",
       "\n",
       "    .dataframe tbody tr th {\n",
       "        vertical-align: top;\n",
       "    }\n",
       "\n",
       "    .dataframe thead th {\n",
       "        text-align: right;\n",
       "    }\n",
       "</style>\n",
       "<table border=\"1\" class=\"dataframe\">\n",
       "  <thead>\n",
       "    <tr style=\"text-align: right;\">\n",
       "      <th></th>\n",
       "      <th>X_test</th>\n",
       "      <th>Y_test</th>\n",
       "      <th>Y_pred</th>\n",
       "    </tr>\n",
       "  </thead>\n",
       "  <tbody>\n",
       "    <tr>\n",
       "      <th>0</th>\n",
       "      <td>798.00</td>\n",
       "      <td>787.25</td>\n",
       "      <td>740.026428</td>\n",
       "    </tr>\n",
       "    <tr>\n",
       "      <th>1</th>\n",
       "      <td>787.25</td>\n",
       "      <td>808.50</td>\n",
       "      <td>730.063660</td>\n",
       "    </tr>\n",
       "    <tr>\n",
       "      <th>2</th>\n",
       "      <td>808.50</td>\n",
       "      <td>810.25</td>\n",
       "      <td>749.757385</td>\n",
       "    </tr>\n",
       "    <tr>\n",
       "      <th>3</th>\n",
       "      <td>810.25</td>\n",
       "      <td>819.50</td>\n",
       "      <td>751.379211</td>\n",
       "    </tr>\n",
       "    <tr>\n",
       "      <th>4</th>\n",
       "      <td>819.50</td>\n",
       "      <td>803.25</td>\n",
       "      <td>759.951721</td>\n",
       "    </tr>\n",
       "    <tr>\n",
       "      <th>...</th>\n",
       "      <td>...</td>\n",
       "      <td>...</td>\n",
       "      <td>...</td>\n",
       "    </tr>\n",
       "    <tr>\n",
       "      <th>101</th>\n",
       "      <td>727.25</td>\n",
       "      <td>721.00</td>\n",
       "      <td>674.457764</td>\n",
       "    </tr>\n",
       "    <tr>\n",
       "      <th>102</th>\n",
       "      <td>721.00</td>\n",
       "      <td>712.75</td>\n",
       "      <td>668.665466</td>\n",
       "    </tr>\n",
       "    <tr>\n",
       "      <th>103</th>\n",
       "      <td>712.75</td>\n",
       "      <td>733.00</td>\n",
       "      <td>661.019592</td>\n",
       "    </tr>\n",
       "    <tr>\n",
       "      <th>104</th>\n",
       "      <td>733.00</td>\n",
       "      <td>741.00</td>\n",
       "      <td>679.786560</td>\n",
       "    </tr>\n",
       "    <tr>\n",
       "      <th>105</th>\n",
       "      <td>741.00</td>\n",
       "      <td>728.25</td>\n",
       "      <td>687.200745</td>\n",
       "    </tr>\n",
       "  </tbody>\n",
       "</table>\n",
       "<p>106 rows × 3 columns</p>\n",
       "</div>"
      ],
      "text/plain": [
       "     X_test  Y_test      Y_pred\n",
       "0    798.00  787.25  740.026428\n",
       "1    787.25  808.50  730.063660\n",
       "2    808.50  810.25  749.757385\n",
       "3    810.25  819.50  751.379211\n",
       "4    819.50  803.25  759.951721\n",
       "..      ...     ...         ...\n",
       "101  727.25  721.00  674.457764\n",
       "102  721.00  712.75  668.665466\n",
       "103  712.75  733.00  661.019592\n",
       "104  733.00  741.00  679.786560\n",
       "105  741.00  728.25  687.200745\n",
       "\n",
       "[106 rows x 3 columns]"
      ]
     },
     "execution_count": 45,
     "metadata": {},
     "output_type": "execute_result"
    }
   ],
   "source": [
    "Y_pred = model.predict(X_test).reshape(X_test.shape[0])\n",
    "res = pd.DataFrame({'X_test': X_test.reshape(X_test.shape[0]), \n",
    "                    'Y_test': Y_test.reshape(Y_test.shape[0]), \n",
    "                    'Y_pred': Y_pred.reshape(Y_pred.shape[0])})\n",
    "res"
   ]
  },
  {
   "cell_type": "code",
   "execution_count": 46,
   "id": "2c057bd4",
   "metadata": {},
   "outputs": [
    {
     "data": {
      "text/plain": [
       "<AxesSubplot: >"
      ]
     },
     "execution_count": 46,
     "metadata": {},
     "output_type": "execute_result"
    },
    {
     "data": {
      "image/png": "[encoded data removed]",
      "text/plain": [
       "<Figure size 640x480 with 1 Axes>"
      ]
     },
     "metadata": {},
     "output_type": "display_data"
    }
   ],
   "source": [
    "res.plot()"
   ]
  },
  {
   "cell_type": "markdown",
   "id": "3c6fd568",
   "metadata": {},
   "source": [
    "5-fold"
   ]
  },
  {
   "cell_type": "code",
   "execution_count": null,
   "id": "74838600",
   "metadata": {},
   "outputs": [],
   "source": [
    "kf = KFold(n_splits=5, shuffle=True)\n",
    "scores = []\n",
    "for train_index, val_index in kf.split(X):\n",
    "    X_train, X_val = X[train_index], X[val_index]\n",
    "    y_train, y_val = y[train_index], y[val_index]\n",
    "    model.fit(X_train, y_train)\n",
    "    score = model.evaluate(X_val, y_val, verbose=0)\n",
    "    scores.append(score)\n",
    "\n",
    "mean = np.mean(scores)\n",
    "std = np.std(scores)\n",
    "confidence_interval = t.interval(0.95, len(scores)-1, mean, std)\n",
    "print(confidence_interval)\n",
    "print(mean)"
   ]
  },
  {
   "cell_type": "markdown",
   "id": "f2cd3167-d198-412b-a794-29e887e2250b",
   "metadata": {},
   "source": [
    "## Q4\n",
    "\n",
    "For this question, we are going to use [Consumer Complaints Dataset](https://raw.githubusercontent.com/plotly/datasets/master/26k-consumer-complaints.csv).\n",
    "\n",
    "1. Ingest the dataset. We are only going to use the columns `Issue` and `Timely Response?`.\n",
    "2. Convert the values in the issue column to vectors using [Count Vectorizer](https://scikit-learn.org/stable/modules/generated/sklearn.feature_extraction.text.CountVectorizer.html) from `scikit-learn`. Similarly, binarize the column `Timely Response` using [Label Binarizer](https://scikit-learn.org/stable/modules/generated/sklearn.preprocessing.LabelBinarizer.html).\n",
    "3. Split your dataset into train and test.\n",
    "3. Construct an an appropriate neural network model on the train set.\n",
    "4. Test your model on the test set. Did your model work? Explain."
   ]
  },
  {
   "cell_type": "code",
   "execution_count": 2,
   "id": "fef22860-09f6-49e7-a43f-feb83a3ed9db",
   "metadata": {},
   "outputs": [
    {
     "data": {
      "text/html": [
       "<div>\n",
       "<style scoped>\n",
       "    .dataframe tbody tr th:only-of-type {\n",
       "        vertical-align: middle;\n",
       "    }\n",
       "\n",
       "    .dataframe tbody tr th {\n",
       "        vertical-align: top;\n",
       "    }\n",
       "\n",
       "    .dataframe thead th {\n",
       "        text-align: right;\n",
       "    }\n",
       "</style>\n",
       "<table border=\"1\" class=\"dataframe\">\n",
       "  <thead>\n",
       "    <tr style=\"text-align: right;\">\n",
       "      <th></th>\n",
       "      <th>Unnamed: 0</th>\n",
       "      <th>Complaint ID</th>\n",
       "      <th>Product</th>\n",
       "      <th>Sub-product</th>\n",
       "      <th>Issue</th>\n",
       "      <th>Sub-issue</th>\n",
       "      <th>State</th>\n",
       "      <th>ZIP code</th>\n",
       "      <th>Date received</th>\n",
       "      <th>Date sent to company</th>\n",
       "      <th>Company</th>\n",
       "      <th>Company response</th>\n",
       "      <th>Timely response?</th>\n",
       "      <th>Consumer disputed?</th>\n",
       "    </tr>\n",
       "  </thead>\n",
       "  <tbody>\n",
       "    <tr>\n",
       "      <th>0</th>\n",
       "      <td>0</td>\n",
       "      <td>1291006</td>\n",
       "      <td>Debt collection</td>\n",
       "      <td>NaN</td>\n",
       "      <td>Communication tactics</td>\n",
       "      <td>Frequent or repeated calls</td>\n",
       "      <td>TX</td>\n",
       "      <td>76119.0</td>\n",
       "      <td>2015-03-19</td>\n",
       "      <td>2015-03-19</td>\n",
       "      <td>Premium Asset Services, LLC</td>\n",
       "      <td>In progress</td>\n",
       "      <td>Yes</td>\n",
       "      <td>NaN</td>\n",
       "    </tr>\n",
       "    <tr>\n",
       "      <th>1</th>\n",
       "      <td>1</td>\n",
       "      <td>1290580</td>\n",
       "      <td>Debt collection</td>\n",
       "      <td>Medical</td>\n",
       "      <td>Cont'd attempts collect debt not owed</td>\n",
       "      <td>Debt is not mine</td>\n",
       "      <td>TX</td>\n",
       "      <td>77479.0</td>\n",
       "      <td>2015-03-19</td>\n",
       "      <td>2015-03-19</td>\n",
       "      <td>Accounts Receivable Consultants Inc.</td>\n",
       "      <td>Closed with explanation</td>\n",
       "      <td>Yes</td>\n",
       "      <td>NaN</td>\n",
       "    </tr>\n",
       "    <tr>\n",
       "      <th>2</th>\n",
       "      <td>2</td>\n",
       "      <td>1290564</td>\n",
       "      <td>Mortgage</td>\n",
       "      <td>FHA mortgage</td>\n",
       "      <td>Application, originator, mortgage broker</td>\n",
       "      <td>NaN</td>\n",
       "      <td>MA</td>\n",
       "      <td>2127.0</td>\n",
       "      <td>2015-03-19</td>\n",
       "      <td>2015-03-19</td>\n",
       "      <td>RBS Citizens</td>\n",
       "      <td>Closed with explanation</td>\n",
       "      <td>Yes</td>\n",
       "      <td>Yes</td>\n",
       "    </tr>\n",
       "    <tr>\n",
       "      <th>3</th>\n",
       "      <td>3</td>\n",
       "      <td>1291615</td>\n",
       "      <td>Credit card</td>\n",
       "      <td>NaN</td>\n",
       "      <td>Other</td>\n",
       "      <td>NaN</td>\n",
       "      <td>CA</td>\n",
       "      <td>92592.0</td>\n",
       "      <td>2015-03-19</td>\n",
       "      <td>2015-03-19</td>\n",
       "      <td>Navy FCU</td>\n",
       "      <td>In progress</td>\n",
       "      <td>Yes</td>\n",
       "      <td>NaN</td>\n",
       "    </tr>\n",
       "    <tr>\n",
       "      <th>4</th>\n",
       "      <td>4</td>\n",
       "      <td>1292165</td>\n",
       "      <td>Debt collection</td>\n",
       "      <td>Non-federal student loan</td>\n",
       "      <td>Cont'd attempts collect debt not owed</td>\n",
       "      <td>Debt resulted from identity theft</td>\n",
       "      <td>NaN</td>\n",
       "      <td>43068.0</td>\n",
       "      <td>2015-03-19</td>\n",
       "      <td>2015-03-19</td>\n",
       "      <td>Transworld Systems Inc.</td>\n",
       "      <td>In progress</td>\n",
       "      <td>Yes</td>\n",
       "      <td>NaN</td>\n",
       "    </tr>\n",
       "    <tr>\n",
       "      <th>...</th>\n",
       "      <td>...</td>\n",
       "      <td>...</td>\n",
       "      <td>...</td>\n",
       "      <td>...</td>\n",
       "      <td>...</td>\n",
       "      <td>...</td>\n",
       "      <td>...</td>\n",
       "      <td>...</td>\n",
       "      <td>...</td>\n",
       "      <td>...</td>\n",
       "      <td>...</td>\n",
       "      <td>...</td>\n",
       "      <td>...</td>\n",
       "      <td>...</td>\n",
       "    </tr>\n",
       "    <tr>\n",
       "      <th>28151</th>\n",
       "      <td>28151</td>\n",
       "      <td>1178184</td>\n",
       "      <td>Debt collection</td>\n",
       "      <td>NaN</td>\n",
       "      <td>Cont'd attempts collect debt not owed</td>\n",
       "      <td>Debt is not mine</td>\n",
       "      <td>TX</td>\n",
       "      <td>75201.0</td>\n",
       "      <td>2015-01-01</td>\n",
       "      <td>2015-01-02</td>\n",
       "      <td>Enhanced Recovery Company, LLC</td>\n",
       "      <td>Closed with non-monetary relief</td>\n",
       "      <td>Yes</td>\n",
       "      <td>No</td>\n",
       "    </tr>\n",
       "    <tr>\n",
       "      <th>28152</th>\n",
       "      <td>28152</td>\n",
       "      <td>1178183</td>\n",
       "      <td>Consumer loan</td>\n",
       "      <td>Vehicle loan</td>\n",
       "      <td>Taking out the loan or lease</td>\n",
       "      <td>NaN</td>\n",
       "      <td>GA</td>\n",
       "      <td>30043.0</td>\n",
       "      <td>2015-01-01</td>\n",
       "      <td>2015-01-07</td>\n",
       "      <td>DriveTime</td>\n",
       "      <td>Closed with explanation</td>\n",
       "      <td>Yes</td>\n",
       "      <td>NaN</td>\n",
       "    </tr>\n",
       "    <tr>\n",
       "      <th>28153</th>\n",
       "      <td>28153</td>\n",
       "      <td>1178182</td>\n",
       "      <td>Mortgage</td>\n",
       "      <td>Conventional fixed mortgage</td>\n",
       "      <td>Loan servicing, payments, escrow account</td>\n",
       "      <td>NaN</td>\n",
       "      <td>MN</td>\n",
       "      <td>55105.0</td>\n",
       "      <td>2015-01-01</td>\n",
       "      <td>2015-01-02</td>\n",
       "      <td>Regions</td>\n",
       "      <td>Closed with non-monetary relief</td>\n",
       "      <td>Yes</td>\n",
       "      <td>No</td>\n",
       "    </tr>\n",
       "    <tr>\n",
       "      <th>28154</th>\n",
       "      <td>28154</td>\n",
       "      <td>1178181</td>\n",
       "      <td>Payday loan</td>\n",
       "      <td>NaN</td>\n",
       "      <td>Can't stop charges to bank account</td>\n",
       "      <td>NaN</td>\n",
       "      <td>CA</td>\n",
       "      <td>92509.0</td>\n",
       "      <td>2015-01-01</td>\n",
       "      <td>2015-01-07</td>\n",
       "      <td>Moneytree Inc</td>\n",
       "      <td>Closed with explanation</td>\n",
       "      <td>Yes</td>\n",
       "      <td>NaN</td>\n",
       "    </tr>\n",
       "    <tr>\n",
       "      <th>28155</th>\n",
       "      <td>28155</td>\n",
       "      <td>1178180</td>\n",
       "      <td>Money transfers</td>\n",
       "      <td>Domestic (US) money transfer</td>\n",
       "      <td>Other transaction issues</td>\n",
       "      <td>NaN</td>\n",
       "      <td>OH</td>\n",
       "      <td>45068.0</td>\n",
       "      <td>2015-01-01</td>\n",
       "      <td>2015-01-02</td>\n",
       "      <td>PayPal</td>\n",
       "      <td>Closed with explanation</td>\n",
       "      <td>Yes</td>\n",
       "      <td>Yes</td>\n",
       "    </tr>\n",
       "  </tbody>\n",
       "</table>\n",
       "<p>28156 rows × 14 columns</p>\n",
       "</div>"
      ],
      "text/plain": [
       "       Unnamed: 0  Complaint ID          Product  \\\n",
       "0               0       1291006  Debt collection   \n",
       "1               1       1290580  Debt collection   \n",
       "2               2       1290564         Mortgage   \n",
       "3               3       1291615      Credit card   \n",
       "4               4       1292165  Debt collection   \n",
       "...           ...           ...              ...   \n",
       "28151       28151       1178184  Debt collection   \n",
       "28152       28152       1178183    Consumer loan   \n",
       "28153       28153       1178182         Mortgage   \n",
       "28154       28154       1178181      Payday loan   \n",
       "28155       28155       1178180  Money transfers   \n",
       "\n",
       "                        Sub-product                                     Issue  \\\n",
       "0                               NaN                     Communication tactics   \n",
       "1                           Medical     Cont'd attempts collect debt not owed   \n",
       "2                      FHA mortgage  Application, originator, mortgage broker   \n",
       "3                               NaN                                     Other   \n",
       "4          Non-federal student loan     Cont'd attempts collect debt not owed   \n",
       "...                             ...                                       ...   \n",
       "28151                           NaN     Cont'd attempts collect debt not owed   \n",
       "28152                  Vehicle loan              Taking out the loan or lease   \n",
       "28153   Conventional fixed mortgage  Loan servicing, payments, escrow account   \n",
       "28154                           NaN        Can't stop charges to bank account   \n",
       "28155  Domestic (US) money transfer                  Other transaction issues   \n",
       "\n",
       "                               Sub-issue State  ZIP code Date received  \\\n",
       "0             Frequent or repeated calls    TX   76119.0    2015-03-19   \n",
       "1                       Debt is not mine    TX   77479.0    2015-03-19   \n",
       "2                                    NaN    MA    2127.0    2015-03-19   \n",
       "3                                    NaN    CA   92592.0    2015-03-19   \n",
       "4      Debt resulted from identity theft   NaN   43068.0    2015-03-19   \n",
       "...                                  ...   ...       ...           ...   \n",
       "28151                   Debt is not mine    TX   75201.0    2015-01-01   \n",
       "28152                                NaN    GA   30043.0    2015-01-01   \n",
       "28153                                NaN    MN   55105.0    2015-01-01   \n",
       "28154                                NaN    CA   92509.0    2015-01-01   \n",
       "28155                                NaN    OH   45068.0    2015-01-01   \n",
       "\n",
       "      Date sent to company                               Company  \\\n",
       "0               2015-03-19           Premium Asset Services, LLC   \n",
       "1               2015-03-19  Accounts Receivable Consultants Inc.   \n",
       "2               2015-03-19                          RBS Citizens   \n",
       "3               2015-03-19                              Navy FCU   \n",
       "4               2015-03-19               Transworld Systems Inc.   \n",
       "...                    ...                                   ...   \n",
       "28151           2015-01-02        Enhanced Recovery Company, LLC   \n",
       "28152           2015-01-07                             DriveTime   \n",
       "28153           2015-01-02                               Regions   \n",
       "28154           2015-01-07                         Moneytree Inc   \n",
       "28155           2015-01-02                                PayPal   \n",
       "\n",
       "                      Company response Timely response? Consumer disputed?  \n",
       "0                          In progress              Yes                NaN  \n",
       "1              Closed with explanation              Yes                NaN  \n",
       "2              Closed with explanation              Yes                Yes  \n",
       "3                          In progress              Yes                NaN  \n",
       "4                          In progress              Yes                NaN  \n",
       "...                                ...              ...                ...  \n",
       "28151  Closed with non-monetary relief              Yes                 No  \n",
       "28152          Closed with explanation              Yes                NaN  \n",
       "28153  Closed with non-monetary relief              Yes                 No  \n",
       "28154          Closed with explanation              Yes                NaN  \n",
       "28155          Closed with explanation              Yes                Yes  \n",
       "\n",
       "[28156 rows x 14 columns]"
      ]
     },
     "execution_count": 2,
     "metadata": {},
     "output_type": "execute_result"
    }
   ],
   "source": [
    "df = pd.read_csv('https://raw.githubusercontent.com/plotly/datasets/master/26k-consumer-complaints.csv')\n",
    "df"
   ]
  },
  {
   "cell_type": "code",
   "execution_count": 3,
   "id": "395cef17",
   "metadata": {},
   "outputs": [
    {
     "data": {
      "text/html": [
       "<div>\n",
       "<style scoped>\n",
       "    .dataframe tbody tr th:only-of-type {\n",
       "        vertical-align: middle;\n",
       "    }\n",
       "\n",
       "    .dataframe tbody tr th {\n",
       "        vertical-align: top;\n",
       "    }\n",
       "\n",
       "    .dataframe thead th {\n",
       "        text-align: right;\n",
       "    }\n",
       "</style>\n",
       "<table border=\"1\" class=\"dataframe\">\n",
       "  <thead>\n",
       "    <tr style=\"text-align: right;\">\n",
       "      <th></th>\n",
       "      <th>Unnamed: 0</th>\n",
       "      <th>Complaint ID</th>\n",
       "      <th>Product</th>\n",
       "      <th>Sub-product</th>\n",
       "      <th>Issue</th>\n",
       "      <th>Sub-issue</th>\n",
       "      <th>State</th>\n",
       "      <th>ZIP code</th>\n",
       "      <th>Date received</th>\n",
       "      <th>Date sent to company</th>\n",
       "      <th>Company</th>\n",
       "      <th>Company response</th>\n",
       "      <th>Timely response?</th>\n",
       "      <th>Consumer disputed?</th>\n",
       "    </tr>\n",
       "  </thead>\n",
       "  <tbody>\n",
       "  </tbody>\n",
       "</table>\n",
       "</div>"
      ],
      "text/plain": [
       "Empty DataFrame\n",
       "Columns: [Unnamed: 0, Complaint ID, Product, Sub-product, Issue, Sub-issue, State, ZIP code, Date received, Date sent to company, Company, Company response, Timely response?, Consumer disputed?]\n",
       "Index: []"
      ]
     },
     "execution_count": 3,
     "metadata": {},
     "output_type": "execute_result"
    }
   ],
   "source": [
    "df[df['Timely response?'].isnull()]"
   ]
  },
  {
   "cell_type": "code",
   "execution_count": 4,
   "id": "3156a7b4",
   "metadata": {},
   "outputs": [
    {
     "data": {
      "text/html": [
       "<div>\n",
       "<style scoped>\n",
       "    .dataframe tbody tr th:only-of-type {\n",
       "        vertical-align: middle;\n",
       "    }\n",
       "\n",
       "    .dataframe tbody tr th {\n",
       "        vertical-align: top;\n",
       "    }\n",
       "\n",
       "    .dataframe thead th {\n",
       "        text-align: right;\n",
       "    }\n",
       "</style>\n",
       "<table border=\"1\" class=\"dataframe\">\n",
       "  <thead>\n",
       "    <tr style=\"text-align: right;\">\n",
       "      <th></th>\n",
       "      <th>Unnamed: 0</th>\n",
       "      <th>Complaint ID</th>\n",
       "      <th>Product</th>\n",
       "      <th>Sub-product</th>\n",
       "      <th>Issue</th>\n",
       "      <th>Sub-issue</th>\n",
       "      <th>State</th>\n",
       "      <th>ZIP code</th>\n",
       "      <th>Date received</th>\n",
       "      <th>Date sent to company</th>\n",
       "      <th>Company</th>\n",
       "      <th>Company response</th>\n",
       "      <th>Timely response?</th>\n",
       "      <th>Consumer disputed?</th>\n",
       "    </tr>\n",
       "  </thead>\n",
       "  <tbody>\n",
       "    <tr>\n",
       "      <th>11730</th>\n",
       "      <td>11730</td>\n",
       "      <td>1235087</td>\n",
       "      <td>Bank account or service</td>\n",
       "      <td>Other bank product/service</td>\n",
       "      <td>NaN</td>\n",
       "      <td>NaN</td>\n",
       "      <td>FL</td>\n",
       "      <td>33428.0</td>\n",
       "      <td>2015-02-09</td>\n",
       "      <td>2015-02-10</td>\n",
       "      <td>Wells Fargo</td>\n",
       "      <td>Closed with explanation</td>\n",
       "      <td>Yes</td>\n",
       "      <td>NaN</td>\n",
       "    </tr>\n",
       "    <tr>\n",
       "      <th>13198</th>\n",
       "      <td>13198</td>\n",
       "      <td>1226302</td>\n",
       "      <td>Bank account or service</td>\n",
       "      <td>Checking account</td>\n",
       "      <td>NaN</td>\n",
       "      <td>NaN</td>\n",
       "      <td>FL</td>\n",
       "      <td>33487.0</td>\n",
       "      <td>2015-02-05</td>\n",
       "      <td>2015-02-05</td>\n",
       "      <td>JPMorgan Chase</td>\n",
       "      <td>Closed with monetary relief</td>\n",
       "      <td>Yes</td>\n",
       "      <td>NaN</td>\n",
       "    </tr>\n",
       "  </tbody>\n",
       "</table>\n",
       "</div>"
      ],
      "text/plain": [
       "       Unnamed: 0  Complaint ID                  Product  \\\n",
       "11730       11730       1235087  Bank account or service   \n",
       "13198       13198       1226302  Bank account or service   \n",
       "\n",
       "                      Sub-product Issue Sub-issue State  ZIP code  \\\n",
       "11730  Other bank product/service   NaN       NaN    FL   33428.0   \n",
       "13198            Checking account   NaN       NaN    FL   33487.0   \n",
       "\n",
       "      Date received Date sent to company         Company  \\\n",
       "11730    2015-02-09           2015-02-10     Wells Fargo   \n",
       "13198    2015-02-05           2015-02-05  JPMorgan Chase   \n",
       "\n",
       "                  Company response Timely response? Consumer disputed?  \n",
       "11730      Closed with explanation              Yes                NaN  \n",
       "13198  Closed with monetary relief              Yes                NaN  "
      ]
     },
     "execution_count": 4,
     "metadata": {},
     "output_type": "execute_result"
    }
   ],
   "source": [
    "df[df['Issue'].isnull()]"
   ]
  },
  {
   "cell_type": "code",
   "execution_count": 5,
   "id": "8613175d",
   "metadata": {},
   "outputs": [],
   "source": [
    "df.drop(11730, inplace=True)\n",
    "df.drop(13198, inplace=True)"
   ]
  },
  {
   "cell_type": "markdown",
   "id": "75c35025",
   "metadata": {},
   "source": [
    "Columns requested from us\n"
   ]
  },
  {
   "cell_type": "code",
   "execution_count": 6,
   "id": "7ff0348c",
   "metadata": {},
   "outputs": [],
   "source": [
    "df_issue = df['Issue']\n",
    "df_timelyResponse = df['Timely response?']"
   ]
  },
  {
   "cell_type": "code",
   "execution_count": 7,
   "id": "89c601fd",
   "metadata": {},
   "outputs": [],
   "source": [
    "from sklearn.feature_extraction.text import CountVectorizer\n",
    "from sklearn.feature_extraction.text import TfidfVectorizer"
   ]
  },
  {
   "cell_type": "code",
   "execution_count": 8,
   "id": "4a6bce1c",
   "metadata": {},
   "outputs": [],
   "source": [
    "vectorizer = CountVectorizer()\n",
    "X = vectorizer.fit_transform(df_issue)\n",
    "X = vectorizer.transform(df_issue)"
   ]
  },
  {
   "cell_type": "code",
   "execution_count": 9,
   "id": "64790fb5",
   "metadata": {},
   "outputs": [],
   "source": [
    "from sklearn import preprocessing"
   ]
  },
  {
   "cell_type": "code",
   "execution_count": 10,
   "id": "4a22fbd6",
   "metadata": {},
   "outputs": [
    {
     "data": {
      "text/plain": [
       "array([[1],\n",
       "       [1],\n",
       "       [1],\n",
       "       ...,\n",
       "       [1],\n",
       "       [1],\n",
       "       [1]])"
      ]
     },
     "execution_count": 10,
     "metadata": {},
     "output_type": "execute_result"
    }
   ],
   "source": [
    "lb = LabelBinarizer()\n",
    "y = lb.fit_transform(df_timelyResponse)\n",
    "y"
   ]
  },
  {
   "cell_type": "code",
   "execution_count": 11,
   "id": "1871a4da",
   "metadata": {},
   "outputs": [],
   "source": [
    "X_train, X_test, y_train, y_test = train_test_split(X,y,train_size=0.75)"
   ]
  },
  {
   "cell_type": "code",
   "execution_count": 12,
   "id": "b4622c6a",
   "metadata": {},
   "outputs": [
    {
     "data": {
      "text/plain": [
       "(21115, 187)"
      ]
     },
     "execution_count": 12,
     "metadata": {},
     "output_type": "execute_result"
    }
   ],
   "source": [
    "X_train.shape"
   ]
  },
  {
   "cell_type": "code",
   "execution_count": 13,
   "id": "b0be427c",
   "metadata": {},
   "outputs": [
    {
     "data": {
      "text/plain": [
       "(21115, 1)"
      ]
     },
     "execution_count": 13,
     "metadata": {},
     "output_type": "execute_result"
    }
   ],
   "source": [
    "y_train.shape"
   ]
  },
  {
   "cell_type": "code",
   "execution_count": 20,
   "id": "1ba95263",
   "metadata": {},
   "outputs": [],
   "source": [
    "model = Sequential()\n",
    "model.add(Dense(1028, input_shape=(X_train.shape[1],), activation='sigmoid'))\n",
    "model.add(Dense(512, activation='relu'))\n",
    "model.add(Dense(64, activation='relu'))\n",
    "model.add(Dense(2, activation='linear'))\n",
    "model.add(Dense(1, activation='sigmoid'))\n",
    "model.compile(loss = 'binary_crossentropy', \n",
    "              metrics = ['binary_accuracy'],\n",
    "              optimizer = 'adam')"
   ]
  },
  {
   "cell_type": "code",
   "execution_count": 21,
   "id": "49dc1ece",
   "metadata": {},
   "outputs": [
    {
     "name": "stdout",
     "output_type": "stream",
     "text": [
      "Epoch 1/20\n",
      "1056/1056 [==============================] - 6s 5ms/step - loss: 0.1140 - binary_accuracy: 0.9740 - val_loss: 0.1152 - val_binary_accuracy: 0.9739\n",
      "Epoch 2/20\n",
      "1056/1056 [==============================] - 5s 5ms/step - loss: 0.1059 - binary_accuracy: 0.9750 - val_loss: 0.1201 - val_binary_accuracy: 0.9739\n",
      "Epoch 3/20\n",
      "1056/1056 [==============================] - 5s 5ms/step - loss: 0.1041 - binary_accuracy: 0.9750 - val_loss: 0.1131 - val_binary_accuracy: 0.9739\n",
      "Epoch 4/20\n",
      "1056/1056 [==============================] - 5s 5ms/step - loss: 0.1043 - binary_accuracy: 0.9750 - val_loss: 0.1100 - val_binary_accuracy: 0.9739\n",
      "Epoch 5/20\n",
      "1056/1056 [==============================] - 5s 5ms/step - loss: 0.1034 - binary_accuracy: 0.9750 - val_loss: 0.1342 - val_binary_accuracy: 0.9739\n",
      "Epoch 6/20\n",
      "1056/1056 [==============================] - 5s 5ms/step - loss: 0.1026 - binary_accuracy: 0.9750 - val_loss: 0.1114 - val_binary_accuracy: 0.9739\n",
      "Epoch 7/20\n",
      "1056/1056 [==============================] - 6s 5ms/step - loss: 0.1025 - binary_accuracy: 0.9750 - val_loss: 0.1100 - val_binary_accuracy: 0.9739\n",
      "Epoch 8/20\n",
      "1056/1056 [==============================] - 5s 5ms/step - loss: 0.1025 - binary_accuracy: 0.9750 - val_loss: 0.1100 - val_binary_accuracy: 0.9739\n",
      "Epoch 9/20\n",
      "1056/1056 [==============================] - 6s 5ms/step - loss: 0.1023 - binary_accuracy: 0.9750 - val_loss: 0.1103 - val_binary_accuracy: 0.9739\n",
      "Epoch 10/20\n",
      "1056/1056 [==============================] - 6s 5ms/step - loss: 0.1021 - binary_accuracy: 0.9750 - val_loss: 0.1103 - val_binary_accuracy: 0.9739\n",
      "Epoch 11/20\n",
      "1056/1056 [==============================] - 5s 5ms/step - loss: 0.1024 - binary_accuracy: 0.9750 - val_loss: 0.1106 - val_binary_accuracy: 0.9739\n",
      "Epoch 12/20\n",
      "1056/1056 [==============================] - 5s 5ms/step - loss: 0.1022 - binary_accuracy: 0.9750 - val_loss: 0.1109 - val_binary_accuracy: 0.9739\n",
      "Epoch 13/20\n",
      "1056/1056 [==============================] - 6s 5ms/step - loss: 0.1020 - binary_accuracy: 0.9750 - val_loss: 0.1108 - val_binary_accuracy: 0.9739\n",
      "Epoch 14/20\n",
      "1056/1056 [==============================] - 6s 5ms/step - loss: 0.1017 - binary_accuracy: 0.9750 - val_loss: 0.1101 - val_binary_accuracy: 0.9739\n",
      "Epoch 15/20\n",
      "1056/1056 [==============================] - 5s 5ms/step - loss: 0.1016 - binary_accuracy: 0.9750 - val_loss: 0.1149 - val_binary_accuracy: 0.9739\n",
      "Epoch 16/20\n",
      "1056/1056 [==============================] - 6s 5ms/step - loss: 0.1020 - binary_accuracy: 0.9750 - val_loss: 0.1116 - val_binary_accuracy: 0.9739\n",
      "Epoch 17/20\n",
      "1056/1056 [==============================] - 5s 5ms/step - loss: 0.1019 - binary_accuracy: 0.9750 - val_loss: 0.1113 - val_binary_accuracy: 0.9739\n",
      "Epoch 18/20\n",
      "1056/1056 [==============================] - 6s 5ms/step - loss: 0.1017 - binary_accuracy: 0.9750 - val_loss: 0.1107 - val_binary_accuracy: 0.9739\n",
      "Epoch 19/20\n",
      "1056/1056 [==============================] - 6s 5ms/step - loss: 0.1016 - binary_accuracy: 0.9750 - val_loss: 0.1109 - val_binary_accuracy: 0.9739\n",
      "Epoch 20/20\n",
      "1056/1056 [==============================] - 5s 5ms/step - loss: 0.1016 - binary_accuracy: 0.9750 - val_loss: 0.1135 - val_binary_accuracy: 0.9739\n"
     ]
    },
    {
     "data": {
      "text/plain": [
       "<keras.callbacks.History at 0x295eceb30>"
      ]
     },
     "execution_count": 21,
     "metadata": {},
     "output_type": "execute_result"
    }
   ],
   "source": [
    "model.fit(X_train, y_train,\n",
    "          batch_size = 20,\n",
    "          epochs = 20,\n",
    "          validation_data = (X_test, y_test))"
   ]
  },
  {
   "cell_type": "markdown",
   "id": "cf6ea02f",
   "metadata": {},
   "source": [
    "Although the success of the model is very high, it always remains constant.\n"
   ]
  }
 ],
 "metadata": {
  "kernelspec": {
   "display_name": "Python 3 (ipykernel)",
   "language": "python",
   "name": "python3"
  },
  "language_info": {
   "codemirror_mode": {
    "name": "ipython",
    "version": 3
   },
   "file_extension": ".py",
   "mimetype": "text/x-python",
   "name": "python",
   "nbconvert_exporter": "python",
   "pygments_lexer": "ipython3",
   "version": "3.10.7"
  }
 },
 "nbformat": 4,
 "nbformat_minor": 5
}
